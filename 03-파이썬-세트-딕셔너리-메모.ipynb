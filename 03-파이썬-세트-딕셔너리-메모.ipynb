{
 "cells": [
  {
   "cell_type": "markdown",
   "id": "4eb55099",
   "metadata": {},
   "source": [
    "## 시퀀스, 집합형 자료구조"
   ]
  },
  {
   "cell_type": "markdown",
   "id": "768cfaa2",
   "metadata": {},
   "source": [
    "| 분류             | 타입                 | 특징                                   | 예시                     |\n",
    "| ---------------- | -------------------- | -------------------------------------- | ------------------------ |\n",
    "| 시퀀스(sequence) | 리스트(list)         | 순서가 있고, 가변(mutable)             | [1, 2, 3]                |\n",
    "| 시퀀스(sequence) | 튜플(tuple)          | 순서가 있고, 불변(immutable)           | (1, 2, 3)                |\n",
    "| 세트(set)        | 세트(set)            | 순서가 없고, 중복을 허용하지 않음      | {1, 2, 3}                |\n",
    "| 맵(map)          | 딕셔너리(dictionary) | 순서가 없고, key/value 쌍으로 이루어짐 | {'a': 1, 'b': 2, 'c': 3} |"
   ]
  },
  {
   "cell_type": "markdown",
   "id": "29ce1145",
   "metadata": {},
   "source": [
    "### 세트(set)\n",
    "\n",
    "- 세트는 순서가 보장 되지 않습니다.\n",
    "- 세트는 요소의 **중복을 허용하지 않습니다.**\n",
    "- 세트는 **{}**를 활용하여 생성할 수 있습니다."
   ]
  },
  {
   "cell_type": "markdown",
   "id": "218007be",
   "metadata": {},
   "source": [
    "#### 생성"
   ]
  },
  {
   "cell_type": "code",
   "execution_count": 3,
   "id": "efe20f15",
   "metadata": {},
   "outputs": [
    {
     "data": {
      "text/plain": [
       "set()"
      ]
     },
     "execution_count": 3,
     "metadata": {},
     "output_type": "execute_result"
    }
   ],
   "source": [
    "myset= set()\n",
    "myset"
   ]
  },
  {
   "cell_type": "code",
   "execution_count": 4,
   "id": "dcae5d21",
   "metadata": {},
   "outputs": [
    {
     "data": {
      "text/plain": [
       "{1, 2, 3}"
      ]
     },
     "execution_count": 4,
     "metadata": {},
     "output_type": "execute_result"
    }
   ],
   "source": [
    "myset = set([1, 1, 1, 2, 2, 2, 3, 3, 3])\n",
    "myset"
   ]
  },
  {
   "cell_type": "code",
   "execution_count": 6,
   "id": "d0614dd3",
   "metadata": {},
   "outputs": [
    {
     "data": {
      "text/plain": [
       "{1, 2, 3, 4, 5}"
      ]
     },
     "execution_count": 6,
     "metadata": {},
     "output_type": "execute_result"
    }
   ],
   "source": [
    "myset = set((1, 1, 1, 2, 3, 3, 4, 5, 5, 5))\n",
    "myset"
   ]
  },
  {
   "cell_type": "code",
   "execution_count": 7,
   "id": "8b64e897",
   "metadata": {},
   "outputs": [
    {
     "data": {
      "text/plain": [
       "{1, 2, 3}"
      ]
     },
     "execution_count": 7,
     "metadata": {},
     "output_type": "execute_result"
    }
   ],
   "source": [
    "myset = {1, 1, 1, 2, 2, 2, 3, 3, 3}\n",
    "myset"
   ]
  },
  {
   "cell_type": "markdown",
   "id": "80c7e7a9",
   "metadata": {},
   "source": [
    "### add() : 값 추가\n",
    "\n",
    "- set에 요소를 추가합니다.\n",
    "\n",
    "빈 set를 생성합니다."
   ]
  },
  {
   "cell_type": "code",
   "execution_count": 8,
   "id": "5f0ce4b1",
   "metadata": {},
   "outputs": [],
   "source": [
    "myset = set()"
   ]
  },
  {
   "cell_type": "markdown",
   "id": "dda57a53",
   "metadata": {},
   "source": [
    "add() 로 요소를 추가합니다."
   ]
  },
  {
   "cell_type": "code",
   "execution_count": 9,
   "id": "df78e18d",
   "metadata": {},
   "outputs": [],
   "source": [
    "myset.add(1)\n",
    "myset.add(2)\n",
    "myset.add(3)\n",
    "\n",
    "myset.add(1)\n",
    "myset.add(2)\n",
    "myset.add(3)\n",
    "\n",
    "myset.add(1)\n",
    "myset.add(2)\n",
    "myset.add(3)"
   ]
  },
  {
   "cell_type": "markdown",
   "id": "471d2b67",
   "metadata": {},
   "source": [
    "요소를 중복하여 추가하였지만, 중복을 허용하지 않는 set의 특성상 {1, 2, 3}으로 **중복이 제거된 요소만 출력**됩니다."
   ]
  },
  {
   "cell_type": "code",
   "execution_count": 10,
   "id": "e90a9998",
   "metadata": {},
   "outputs": [
    {
     "data": {
      "text/plain": [
       "{1, 2, 3}"
      ]
     },
     "execution_count": 10,
     "metadata": {},
     "output_type": "execute_result"
    }
   ],
   "source": [
    "myset"
   ]
  },
  {
   "cell_type": "markdown",
   "id": "94cf1f7f",
   "metadata": {},
   "source": [
    "### updata() : 여러개 값 추가\n",
    "- 여러개의 값을 한꺼번에 추가하고자 할 때는 update() 메서드를 사용합니다."
   ]
  },
  {
   "cell_type": "code",
   "execution_count": 12,
   "id": "6edfd222",
   "metadata": {},
   "outputs": [],
   "source": [
    "myset = {1, 2, 3}"
   ]
  },
  {
   "cell_type": "markdown",
   "id": "756c22f9",
   "metadata": {},
   "source": [
    "list의 요소들을 **한꺼번에 update**"
   ]
  },
  {
   "cell_type": "code",
   "execution_count": 13,
   "id": "3c1823de",
   "metadata": {},
   "outputs": [
    {
     "data": {
      "text/plain": [
       "{1, 2, 3, 4, 5, 6}"
      ]
     },
     "execution_count": 13,
     "metadata": {},
     "output_type": "execute_result"
    }
   ],
   "source": [
    "myset.update([4, 5, 6])\n",
    "myset"
   ]
  },
  {
   "cell_type": "markdown",
   "id": "f7d8cec4",
   "metadata": {},
   "source": [
    "tuple의 요소들을 **한꺼번에 update**"
   ]
  },
  {
   "cell_type": "code",
   "execution_count": 14,
   "id": "744f7479",
   "metadata": {},
   "outputs": [
    {
     "data": {
      "text/plain": [
       "{1, 2, 3, 4, 5, 6, 7, 8, 9}"
      ]
     },
     "execution_count": 14,
     "metadata": {},
     "output_type": "execute_result"
    }
   ],
   "source": [
    "myset.update((7, 8, 9))\n",
    "myset"
   ]
  },
  {
   "cell_type": "markdown",
   "id": "a6ca4437",
   "metadata": {},
   "source": [
    "set의 요소들을 **한꺼번에 update**"
   ]
  },
  {
   "cell_type": "code",
   "execution_count": 15,
   "id": "57515b5a",
   "metadata": {},
   "outputs": [
    {
     "data": {
      "text/plain": [
       "{1, 2, 3, 4, 5, 6, 7, 8, 9, 10, 11, 12}"
      ]
     },
     "execution_count": 15,
     "metadata": {},
     "output_type": "execute_result"
    }
   ],
   "source": [
    "myset.update({10, 11, 12})\n",
    "myset"
   ]
  },
  {
   "cell_type": "markdown",
   "id": "87a1f742",
   "metadata": {},
   "source": [
    "### remove() : 값 제거\n",
    "- 단일 요소를 제거합니다."
   ]
  },
  {
   "cell_type": "code",
   "execution_count": 16,
   "id": "5dbea941",
   "metadata": {},
   "outputs": [],
   "source": [
    "myset = {1, 2, 3, 4, 5}"
   ]
  },
  {
   "cell_type": "code",
   "execution_count": 17,
   "id": "fff52de3",
   "metadata": {},
   "outputs": [
    {
     "data": {
      "text/plain": [
       "{1, 3, 4, 5}"
      ]
     },
     "execution_count": 17,
     "metadata": {},
     "output_type": "execute_result"
    }
   ],
   "source": [
    "myset.remove(2)\n",
    "myset"
   ]
  },
  {
   "cell_type": "markdown",
   "id": "1fd5ad37",
   "metadata": {},
   "source": [
    "### 교집합 (intersection)\n",
    "\n",
    "- 교집합은 집합 A와 B가 주어졌을 때 **공통된 요소**를 말합니다.\n",
    "- `&`기호나 `intersection()` 메서드를 활용하여 교집합을 구할 수 있습니다."
   ]
  },
  {
   "cell_type": "code",
   "execution_count": 18,
   "id": "cc3cf690",
   "metadata": {},
   "outputs": [],
   "source": [
    "a = {1, 2, 3, 4, 5}\n",
    "b = {3, 4, 5, 6, 7}"
   ]
  },
  {
   "cell_type": "code",
   "execution_count": 19,
   "id": "7b6ae10d",
   "metadata": {},
   "outputs": [
    {
     "data": {
      "text/plain": [
       "{3, 4, 5}"
      ]
     },
     "execution_count": 19,
     "metadata": {},
     "output_type": "execute_result"
    }
   ],
   "source": [
    "a & b"
   ]
  },
  {
   "cell_type": "code",
   "execution_count": 20,
   "id": "8a19c045",
   "metadata": {},
   "outputs": [
    {
     "data": {
      "text/plain": [
       "{3, 4, 5}"
      ]
     },
     "execution_count": 20,
     "metadata": {},
     "output_type": "execute_result"
    }
   ],
   "source": [
    "a.intersection(b)"
   ]
  },
  {
   "cell_type": "markdown",
   "id": "2b2784a0",
   "metadata": {},
   "source": [
    "### 합집합 (union)\n",
    "- 두 집합에서, 하나의 집합에 포함되고 다른 집합에는 포함되지 않는 모든 원소의 집합.\n",
    "- `-`연산자를 활용하거나 `difference()` 메서드를 활용하여 구할 수 있습니다."
   ]
  },
  {
   "cell_type": "code",
   "execution_count": 21,
   "id": "2af1be85",
   "metadata": {},
   "outputs": [],
   "source": [
    "a = {1, 2, 3, 4, 5}\n",
    "b = {3, 4, 5, 6, 7}"
   ]
  },
  {
   "cell_type": "markdown",
   "id": "1618867b",
   "metadata": {},
   "source": [
    "a 집합에서 b 집합을 뺸 차집합"
   ]
  },
  {
   "cell_type": "code",
   "execution_count": 22,
   "id": "6dfaaa2c",
   "metadata": {},
   "outputs": [
    {
     "data": {
      "text/plain": [
       "{1, 2}"
      ]
     },
     "execution_count": 22,
     "metadata": {},
     "output_type": "execute_result"
    }
   ],
   "source": [
    "a - b"
   ]
  },
  {
   "cell_type": "code",
   "execution_count": 23,
   "id": "33e818d6",
   "metadata": {},
   "outputs": [
    {
     "data": {
      "text/plain": [
       "{1, 2}"
      ]
     },
     "execution_count": 23,
     "metadata": {},
     "output_type": "execute_result"
    }
   ],
   "source": [
    "a.difference(b)"
   ]
  },
  {
   "cell_type": "markdown",
   "id": "2d16c090",
   "metadata": {},
   "source": [
    "b 집합에서 a 집합을 뺀 차집합"
   ]
  },
  {
   "cell_type": "code",
   "execution_count": 24,
   "id": "aa863d16",
   "metadata": {},
   "outputs": [
    {
     "data": {
      "text/plain": [
       "{6, 7}"
      ]
     },
     "execution_count": 24,
     "metadata": {},
     "output_type": "execute_result"
    }
   ],
   "source": [
    "b - a"
   ]
  },
  {
   "cell_type": "code",
   "execution_count": 25,
   "id": "dc0feb51",
   "metadata": {},
   "outputs": [
    {
     "data": {
      "text/plain": [
       "{6, 7}"
      ]
     },
     "execution_count": 25,
     "metadata": {},
     "output_type": "execute_result"
    }
   ],
   "source": [
    "b.difference(a)"
   ]
  },
  {
   "cell_type": "markdown",
   "id": "64a9e0ef",
   "metadata": {},
   "source": [
    "### 집합의 타입 변환"
   ]
  },
  {
   "cell_type": "markdown",
   "id": "fe189835",
   "metadata": {},
   "source": [
    "###  set를 list로 변환"
   ]
  },
  {
   "cell_type": "code",
   "execution_count": 26,
   "id": "89990f02",
   "metadata": {},
   "outputs": [],
   "source": [
    "a = {1, 2, 3, 4, 5}"
   ]
  },
  {
   "cell_type": "code",
   "execution_count": 27,
   "id": "aa4e9773",
   "metadata": {},
   "outputs": [
    {
     "data": {
      "text/plain": [
       "set"
      ]
     },
     "execution_count": 27,
     "metadata": {},
     "output_type": "execute_result"
    }
   ],
   "source": [
    "type(a)"
   ]
  },
  {
   "cell_type": "code",
   "execution_count": 28,
   "id": "b732b2fa",
   "metadata": {},
   "outputs": [],
   "source": [
    "b = list(a)"
   ]
  },
  {
   "cell_type": "code",
   "execution_count": 30,
   "id": "8d7a81d6",
   "metadata": {},
   "outputs": [
    {
     "data": {
      "text/plain": [
       "[1, 2, 3, 4, 5]"
      ]
     },
     "execution_count": 30,
     "metadata": {},
     "output_type": "execute_result"
    }
   ],
   "source": [
    "b"
   ]
  },
  {
   "cell_type": "code",
   "execution_count": 31,
   "id": "09e2c22a",
   "metadata": {},
   "outputs": [
    {
     "data": {
      "text/plain": [
       "list"
      ]
     },
     "execution_count": 31,
     "metadata": {},
     "output_type": "execute_result"
    }
   ],
   "source": [
    "type(b)"
   ]
  },
  {
   "cell_type": "markdown",
   "id": "013096f6",
   "metadata": {},
   "source": [
    "### list를 set로 변환\n",
    "- 중복을 제거할 때 많이 활용합니다."
   ]
  },
  {
   "cell_type": "code",
   "execution_count": 32,
   "id": "097e2e63",
   "metadata": {},
   "outputs": [],
   "source": [
    "a = [1, 1, 1, 2, 2, 2, 3, 3, 3]"
   ]
  },
  {
   "cell_type": "code",
   "execution_count": 33,
   "id": "b35c1ec6",
   "metadata": {},
   "outputs": [
    {
     "data": {
      "text/plain": [
       "[1, 1, 1, 2, 2, 2, 3, 3, 3]"
      ]
     },
     "execution_count": 33,
     "metadata": {},
     "output_type": "execute_result"
    }
   ],
   "source": [
    "a"
   ]
  },
  {
   "cell_type": "code",
   "execution_count": 34,
   "id": "63c6a2ce",
   "metadata": {},
   "outputs": [
    {
     "data": {
      "text/plain": [
       "list"
      ]
     },
     "execution_count": 34,
     "metadata": {},
     "output_type": "execute_result"
    }
   ],
   "source": [
    "type(a)"
   ]
  },
  {
   "cell_type": "code",
   "execution_count": 35,
   "id": "5aa2a5cb",
   "metadata": {},
   "outputs": [],
   "source": [
    "b = set(a)"
   ]
  },
  {
   "cell_type": "code",
   "execution_count": 36,
   "id": "fb596ee1",
   "metadata": {},
   "outputs": [
    {
     "data": {
      "text/plain": [
       "{1, 2, 3}"
      ]
     },
     "execution_count": 36,
     "metadata": {},
     "output_type": "execute_result"
    }
   ],
   "source": [
    "b"
   ]
  },
  {
   "cell_type": "code",
   "execution_count": 37,
   "id": "b6672b26",
   "metadata": {},
   "outputs": [
    {
     "data": {
      "text/plain": [
       "set"
      ]
     },
     "execution_count": 37,
     "metadata": {},
     "output_type": "execute_result"
    }
   ],
   "source": [
    "type(b)"
   ]
  },
  {
   "cell_type": "markdown",
   "id": "a9b32df9",
   "metadata": {},
   "source": [
    "b를 다시 list 자료형으로 변환"
   ]
  },
  {
   "cell_type": "code",
   "execution_count": 38,
   "id": "b4c6ac21",
   "metadata": {},
   "outputs": [
    {
     "data": {
      "text/plain": [
       "[1, 2, 3]"
      ]
     },
     "execution_count": 38,
     "metadata": {},
     "output_type": "execute_result"
    }
   ],
   "source": [
    "b = list(b)\n",
    "b"
   ]
  },
  {
   "cell_type": "markdown",
   "id": "73128c1b",
   "metadata": {},
   "source": [
    "### 딕셔너리(dictionary)\n",
    "- 순서를 가지지 않습니다.\n",
    "- 키(key)와 값(value)의 쌍으로 이루어져 있습니다.\n",
    "- type은 `dict`로 표시 됩니다.\n",
    "- key를 사용하여 값을 조회할 수 있습니다.\n",
    "- 딕셔너리는 **수정, 삭제, 추가가 가능**합니다."
   ]
  },
  {
   "cell_type": "markdown",
   "id": "c0a95076",
   "metadata": {},
   "source": [
    "### 생성"
   ]
  },
  {
   "cell_type": "code",
   "execution_count": 39,
   "id": "77d5d32b",
   "metadata": {},
   "outputs": [
    {
     "name": "stdout",
     "output_type": "stream",
     "text": [
      "<class 'dict'>\n"
     ]
    }
   ],
   "source": [
    "mydict = dict()\n",
    "print(type(mydict))"
   ]
  },
  {
   "cell_type": "code",
   "execution_count": 40,
   "id": "caee7751",
   "metadata": {},
   "outputs": [
    {
     "data": {
      "text/plain": [
       "{}"
      ]
     },
     "execution_count": 40,
     "metadata": {},
     "output_type": "execute_result"
    }
   ],
   "source": [
    "{}"
   ]
  },
  {
   "cell_type": "code",
   "execution_count": 41,
   "id": "0f8981b8",
   "metadata": {},
   "outputs": [
    {
     "name": "stdout",
     "output_type": "stream",
     "text": [
      "<class 'dict'>\n"
     ]
    },
    {
     "data": {
      "text/plain": [
       "{'a': 1, 'b': 2, 'c': 3}"
      ]
     },
     "execution_count": 41,
     "metadata": {},
     "output_type": "execute_result"
    }
   ],
   "source": [
    "mydict = {'a':1, 'b':2, 'c':3}\n",
    "print(type(mydict))\n",
    "mydict"
   ]
  },
  {
   "cell_type": "markdown",
   "id": "10a3015c",
   "metadata": {},
   "source": [
    "딕셔너리는 여러 타입의 key를 가질 수 있습니다."
   ]
  },
  {
   "cell_type": "code",
   "execution_count": 42,
   "id": "5771de4a",
   "metadata": {},
   "outputs": [
    {
     "data": {
      "text/plain": [
       "{'a': 1, '가': 2, 100: 3, 3.14: 4, True: 5}"
      ]
     },
     "execution_count": 42,
     "metadata": {},
     "output_type": "execute_result"
    }
   ],
   "source": [
    "mydict = {'a': 1, '가':2, 100: 3, 3.14: 4, True: 5}\n",
    "mydict"
   ]
  },
  {
   "cell_type": "markdown",
   "id": "91594ffd",
   "metadata": {},
   "source": [
    "### 값 조회\n",
    "- key 값으로 값을 조회할 수 있습니다."
   ]
  },
  {
   "cell_type": "code",
   "execution_count": 43,
   "id": "5e1a1a79",
   "metadata": {},
   "outputs": [
    {
     "data": {
      "text/plain": [
       "{'a': 1, '가': 2, 100: 3, 3.14: 4, True: 5}"
      ]
     },
     "execution_count": 43,
     "metadata": {},
     "output_type": "execute_result"
    }
   ],
   "source": [
    "mydict = {'a': 1, '가':2, 100: 3, 3.14:4, True: 5}\n",
    "mydict"
   ]
  },
  {
   "cell_type": "markdown",
   "id": "1b96e22a",
   "metadata": {},
   "source": [
    "key를 지정하여 값을 조회할 수 있습니다."
   ]
  },
  {
   "cell_type": "code",
   "execution_count": 44,
   "id": "6ff878e8",
   "metadata": {},
   "outputs": [
    {
     "data": {
      "text/plain": [
       "1"
      ]
     },
     "execution_count": 44,
     "metadata": {},
     "output_type": "execute_result"
    }
   ],
   "source": [
    "mydict['a']"
   ]
  },
  {
   "cell_type": "markdown",
   "id": "058ae161",
   "metadata": {},
   "source": [
    "key가 없는 경우 Error가 발생합니다."
   ]
  },
  {
   "cell_type": "code",
   "execution_count": 45,
   "id": "acdb7bad",
   "metadata": {},
   "outputs": [
    {
     "ename": "KeyError",
     "evalue": "'b'",
     "output_type": "error",
     "traceback": [
      "\u001b[1;31m---------------------------------------------------------------------------\u001b[0m",
      "\u001b[1;31mKeyError\u001b[0m                                  Traceback (most recent call last)",
      "\u001b[1;32m<ipython-input-45-a8dfdc4bddd9>\u001b[0m in \u001b[0;36m<module>\u001b[1;34m\u001b[0m\n\u001b[1;32m----> 1\u001b[1;33m \u001b[0mmydict\u001b[0m\u001b[1;33m[\u001b[0m\u001b[1;34m'b'\u001b[0m\u001b[1;33m]\u001b[0m\u001b[1;33m\u001b[0m\u001b[1;33m\u001b[0m\u001b[0m\n\u001b[0m",
      "\u001b[1;31mKeyError\u001b[0m: 'b'"
     ]
    }
   ],
   "source": [
    "mydict['b']"
   ]
  },
  {
   "cell_type": "markdown",
   "id": "952dd46e",
   "metadata": {},
   "source": [
    "`get()` 메서드를 활용하여 값을 조회할 수 있습니다."
   ]
  },
  {
   "cell_type": "code",
   "execution_count": 46,
   "id": "bb025146",
   "metadata": {},
   "outputs": [
    {
     "data": {
      "text/plain": [
       "1"
      ]
     },
     "execution_count": 46,
     "metadata": {},
     "output_type": "execute_result"
    }
   ],
   "source": [
    "mydict.get('a')"
   ]
  },
  {
   "cell_type": "markdown",
   "id": "11da8eec",
   "metadata": {},
   "source": [
    "`get()`을 사용하면 key가 없는 경우라도 Error가 발생하지 않습니다. 단지 None이 변환됩니다."
   ]
  },
  {
   "cell_type": "code",
   "execution_count": 47,
   "id": "8f8b7c3d",
   "metadata": {},
   "outputs": [],
   "source": [
    "mydict.get('b')"
   ]
  },
  {
   "cell_type": "markdown",
   "id": "621e14ad",
   "metadata": {},
   "source": [
    "### keys() : 모든 key 조회"
   ]
  },
  {
   "cell_type": "code",
   "execution_count": 49,
   "id": "2737a217",
   "metadata": {},
   "outputs": [
    {
     "data": {
      "text/plain": [
       "{'a': 100, 'b': 200, 'c': 300, 'd': 400, 'e': 500}"
      ]
     },
     "execution_count": 49,
     "metadata": {},
     "output_type": "execute_result"
    }
   ],
   "source": [
    "mydict = {'a':100, 'b':200, 'c':300, 'd': 400, 'e': 500}\n",
    "mydict"
   ]
  },
  {
   "cell_type": "code",
   "execution_count": 50,
   "id": "dea374e3",
   "metadata": {},
   "outputs": [
    {
     "data": {
      "text/plain": [
       "dict_keys(['a', 'b', 'c', 'd', 'e'])"
      ]
     },
     "execution_count": 50,
     "metadata": {},
     "output_type": "execute_result"
    }
   ],
   "source": [
    "mydict.keys()"
   ]
  },
  {
   "cell_type": "markdown",
   "id": "a762d6ce",
   "metadata": {},
   "source": [
    "[참고] `dict_keys`\n",
    "- `dict_keys`는 리스트(list)가 아닙니다.\n",
    "- 객체(object)로 생성되는데, 이를 list로 변경하기 위해서는 list()로 변환을 하면 됩니다."
   ]
  },
  {
   "cell_type": "code",
   "execution_count": 51,
   "id": "064579c3",
   "metadata": {},
   "outputs": [
    {
     "data": {
      "text/plain": [
       "['a', 'b', 'c', 'd', 'e']"
      ]
     },
     "execution_count": 51,
     "metadata": {},
     "output_type": "execute_result"
    }
   ],
   "source": [
    "list(mydict.keys())"
   ]
  },
  {
   "cell_type": "markdown",
   "id": "4be57ddf",
   "metadata": {},
   "source": [
    "### values() : 모든 value 조회"
   ]
  },
  {
   "cell_type": "code",
   "execution_count": 52,
   "id": "2c923a1f",
   "metadata": {},
   "outputs": [
    {
     "data": {
      "text/plain": [
       "dict_values([100, 200, 300, 400, 500])"
      ]
     },
     "execution_count": 52,
     "metadata": {},
     "output_type": "execute_result"
    }
   ],
   "source": [
    "mydict.values()"
   ]
  },
  {
   "cell_type": "markdown",
   "id": "1a02d48b",
   "metadata": {},
   "source": [
    "### items() : 모든 key, value 조회\n",
    "- key, value가 튜플로 묶여서 조회됩니다."
   ]
  },
  {
   "cell_type": "code",
   "execution_count": 53,
   "id": "b0df3c87",
   "metadata": {},
   "outputs": [
    {
     "data": {
      "text/plain": [
       "dict_items([('a', 100), ('b', 200), ('c', 300), ('d', 400), ('e', 500)])"
      ]
     },
     "execution_count": 53,
     "metadata": {},
     "output_type": "execute_result"
    }
   ],
   "source": [
    "mydict.items()"
   ]
  },
  {
   "cell_type": "code",
   "execution_count": 54,
   "id": "a497032a",
   "metadata": {},
   "outputs": [
    {
     "data": {
      "text/plain": [
       "[('a', 100), ('b', 200), ('c', 300), ('d', 400), ('e', 500)]"
      ]
     },
     "execution_count": 54,
     "metadata": {},
     "output_type": "execute_result"
    }
   ],
   "source": [
    "list(mydict.items())"
   ]
  },
  {
   "cell_type": "markdown",
   "id": "a9e924a8",
   "metadata": {},
   "source": [
    "### key 값의 존재 유무 확인"
   ]
  },
  {
   "cell_type": "code",
   "execution_count": 55,
   "id": "345d4e8a",
   "metadata": {},
   "outputs": [
    {
     "data": {
      "text/plain": [
       "True"
      ]
     },
     "execution_count": 55,
     "metadata": {},
     "output_type": "execute_result"
    }
   ],
   "source": [
    "'a' in mydict"
   ]
  },
  {
   "cell_type": "code",
   "execution_count": 56,
   "id": "2732d7fe",
   "metadata": {},
   "outputs": [
    {
     "data": {
      "text/plain": [
       "False"
      ]
     },
     "execution_count": 56,
     "metadata": {},
     "output_type": "execute_result"
    }
   ],
   "source": [
    "'f' in mydict"
   ]
  },
  {
   "cell_type": "markdown",
   "id": "9e0b1fc9",
   "metadata": {},
   "source": [
    "### 값을 추가하기\n",
    "- 새로운 key에 값을 대입하여 추가"
   ]
  },
  {
   "cell_type": "code",
   "execution_count": 57,
   "id": "2e538a8a",
   "metadata": {},
   "outputs": [
    {
     "data": {
      "text/plain": [
       "{}"
      ]
     },
     "execution_count": 57,
     "metadata": {},
     "output_type": "execute_result"
    }
   ],
   "source": [
    "mydict = dict()\n",
    "mydict"
   ]
  },
  {
   "cell_type": "code",
   "execution_count": 58,
   "id": "244974e9",
   "metadata": {},
   "outputs": [
    {
     "data": {
      "text/plain": [
       "123"
      ]
     },
     "execution_count": 58,
     "metadata": {},
     "output_type": "execute_result"
    }
   ],
   "source": [
    "mydict['apple'] = 123\n",
    "mydict['apple']"
   ]
  },
  {
   "cell_type": "code",
   "execution_count": 59,
   "id": "7df73467",
   "metadata": {},
   "outputs": [
    {
     "data": {
      "text/plain": [
       "2"
      ]
     },
     "execution_count": 59,
     "metadata": {},
     "output_type": "execute_result"
    }
   ],
   "source": [
    "mydict[0] = 2\n",
    "mydict[0]"
   ]
  },
  {
   "cell_type": "markdown",
   "id": "4a2d3f32",
   "metadata": {},
   "source": [
    "### update() : 다중 업데이트\n",
    "- 값을 한꺼번에 업데이트 합니다."
   ]
  },
  {
   "cell_type": "code",
   "execution_count": 60,
   "id": "b1a475de",
   "metadata": {},
   "outputs": [
    {
     "data": {
      "text/plain": [
       "{'파인애플': 1500, '망고': 3500, '배': 1000}"
      ]
     },
     "execution_count": 60,
     "metadata": {},
     "output_type": "execute_result"
    }
   ],
   "source": [
    "mydict = {'파인애플': 1500, '망고': 3500, '배': 1000}\n",
    "mydict"
   ]
  },
  {
   "cell_type": "code",
   "execution_count": 61,
   "id": "1804b6b4",
   "metadata": {},
   "outputs": [],
   "source": [
    "fruit = {\n",
    "    '사과': 2000,\n",
    "    '딸기': 3000,\n",
    "    '수박': 5000,\n",
    "}"
   ]
  },
  {
   "cell_type": "code",
   "execution_count": 63,
   "id": "267b9c81",
   "metadata": {},
   "outputs": [
    {
     "data": {
      "text/plain": [
       "{'파인애플': 1500, '망고': 3500, '배': 1000, '사과': 2000, '딸기': 3000, '수박': 5000}"
      ]
     },
     "execution_count": 63,
     "metadata": {},
     "output_type": "execute_result"
    }
   ],
   "source": [
    "mydict.update(fruit)\n",
    "mydict"
   ]
  },
  {
   "cell_type": "markdown",
   "id": "17611cdf",
   "metadata": {},
   "source": [
    "###  값 변경\n",
    "- key 값에 새로운 값(value)를 대입하여 값을 변경할 수 있습니다."
   ]
  },
  {
   "cell_type": "code",
   "execution_count": 64,
   "id": "70869159",
   "metadata": {},
   "outputs": [
    {
     "data": {
      "text/plain": [
       "{'a': 100, 'b': 200, 'c': 300, 'd': 400, 'e': 500}"
      ]
     },
     "execution_count": 64,
     "metadata": {},
     "output_type": "execute_result"
    }
   ],
   "source": [
    "mydict = {'a': 100, 'b': 200, 'c': 300, 'd': 400, 'e': 500}\n",
    "mydict"
   ]
  },
  {
   "cell_type": "code",
   "execution_count": 65,
   "id": "32cc9220",
   "metadata": {},
   "outputs": [],
   "source": [
    "mydict['a'] = 900"
   ]
  },
  {
   "cell_type": "code",
   "execution_count": 66,
   "id": "7e2a51a9",
   "metadata": {},
   "outputs": [
    {
     "data": {
      "text/plain": [
       "{'a': 900, 'b': 200, 'c': 300, 'd': 400, 'e': 500}"
      ]
     },
     "execution_count": 66,
     "metadata": {},
     "output_type": "execute_result"
    }
   ],
   "source": [
    "mydict"
   ]
  },
  {
   "cell_type": "markdown",
   "id": "ce4353bf",
   "metadata": {},
   "source": [
    "### 제거하기 / key 제거"
   ]
  },
  {
   "cell_type": "code",
   "execution_count": 67,
   "id": "6007a2ef",
   "metadata": {},
   "outputs": [
    {
     "data": {
      "text/plain": [
       "{'a': 100, 'b': 200, 'c': 300, 'd': 400, 'e': 500}"
      ]
     },
     "execution_count": 67,
     "metadata": {},
     "output_type": "execute_result"
    }
   ],
   "source": [
    "mydict = {'a': 100, 'b': 200, 'c': 300, 'd': 400, 'e': 500}\n",
    "mydict"
   ]
  },
  {
   "cell_type": "markdown",
   "id": "519b315e",
   "metadata": {},
   "source": [
    "`del` 값을 제거할 수 있습니다."
   ]
  },
  {
   "cell_type": "markdown",
   "id": "c13b54ca",
   "metadata": {},
   "source": [
    "`del`에 딕셔너리 key를 지정합니다."
   ]
  },
  {
   "cell_type": "code",
   "execution_count": 68,
   "id": "0322673d",
   "metadata": {},
   "outputs": [],
   "source": [
    "del mydict['a']"
   ]
  },
  {
   "cell_type": "code",
   "execution_count": 69,
   "id": "c70fc4f1",
   "metadata": {},
   "outputs": [
    {
     "data": {
      "text/plain": [
       "{'b': 200, 'c': 300, 'd': 400, 'e': 500}"
      ]
     },
     "execution_count": 69,
     "metadata": {},
     "output_type": "execute_result"
    }
   ],
   "source": [
    "mydict"
   ]
  },
  {
   "cell_type": "markdown",
   "id": "2854f75f",
   "metadata": {},
   "source": [
    "`pop()` 에 key를 지정하여 값을 제거할 수 있습니다."
   ]
  },
  {
   "cell_type": "markdown",
   "id": "ef8d132a",
   "metadata": {},
   "source": [
    "제거되는 값의 value를 반환합니다."
   ]
  },
  {
   "cell_type": "code",
   "execution_count": 70,
   "id": "e4b841cc",
   "metadata": {},
   "outputs": [
    {
     "data": {
      "text/plain": [
       "200"
      ]
     },
     "execution_count": 70,
     "metadata": {},
     "output_type": "execute_result"
    }
   ],
   "source": [
    "mydict.pop('b')"
   ]
  },
  {
   "cell_type": "code",
   "execution_count": 71,
   "id": "c267befa",
   "metadata": {},
   "outputs": [
    {
     "data": {
      "text/plain": [
       "{'c': 300, 'd': 400, 'e': 500}"
      ]
     },
     "execution_count": 71,
     "metadata": {},
     "output_type": "execute_result"
    }
   ],
   "source": [
    "mydict"
   ]
  },
  {
   "cell_type": "markdown",
   "id": "10811b1d",
   "metadata": {},
   "source": [
    "### len() : 요소의 개수 파악"
   ]
  },
  {
   "cell_type": "code",
   "execution_count": 72,
   "id": "0ea74323",
   "metadata": {},
   "outputs": [
    {
     "data": {
      "text/plain": [
       "3"
      ]
     },
     "execution_count": 72,
     "metadata": {},
     "output_type": "execute_result"
    }
   ],
   "source": [
    "len(mydict)"
   ]
  },
  {
   "cell_type": "markdown",
   "id": "8c1a18fb",
   "metadata": {},
   "source": [
    "### clear() - 전부 삭제"
   ]
  },
  {
   "cell_type": "code",
   "execution_count": 73,
   "id": "8821c8b9",
   "metadata": {},
   "outputs": [
    {
     "data": {
      "text/plain": [
       "{'a': 100, 'b': 200, 'c': 300, 'd': 400, 'e': 500}"
      ]
     },
     "execution_count": 73,
     "metadata": {},
     "output_type": "execute_result"
    }
   ],
   "source": [
    "mydict = {'a': 100, 'b': 200, 'c': 300, 'd': 400, 'e': 500}\n",
    "mydict"
   ]
  },
  {
   "cell_type": "code",
   "execution_count": 74,
   "id": "e2a918bd",
   "metadata": {},
   "outputs": [],
   "source": [
    "mydict.clear()"
   ]
  },
  {
   "cell_type": "code",
   "execution_count": 75,
   "id": "8bc9a623",
   "metadata": {},
   "outputs": [
    {
     "data": {
      "text/plain": [
       "{}"
      ]
     },
     "execution_count": 75,
     "metadata": {},
     "output_type": "execute_result"
    }
   ],
   "source": [
    "mydict"
   ]
  }
 ],
 "metadata": {
  "kernelspec": {
   "display_name": "Python 3",
   "language": "python",
   "name": "python3"
  },
  "language_info": {
   "codemirror_mode": {
    "name": "ipython",
    "version": 3
   },
   "file_extension": ".py",
   "mimetype": "text/x-python",
   "name": "python",
   "nbconvert_exporter": "python",
   "pygments_lexer": "ipython3",
   "version": "3.8.8"
  }
 },
 "nbformat": 4,
 "nbformat_minor": 5
}
