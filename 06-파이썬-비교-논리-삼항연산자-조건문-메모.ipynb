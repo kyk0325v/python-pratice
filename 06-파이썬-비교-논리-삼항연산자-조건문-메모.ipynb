{
 "cells": [
  {
   "cell_type": "markdown",
   "id": "92a370f2",
   "metadata": {},
   "source": [
    "## 비교 연산자\n",
    "\n",
    "비교 연산자는 주로 대소비교를 할 때 사용합니다."
   ]
  },
  {
   "cell_type": "markdown",
   "id": "91ced9a8",
   "metadata": {},
   "source": [
    "### 대소비교\n",
    "\n",
    "- `>`: 크다\n",
    "- `>=`: 크거나 같다\n",
    "- `<`: 작다\n",
    "- `<=`: 작거나 같다"
   ]
  },
  {
   "cell_type": "code",
   "execution_count": 1,
   "id": "0ab8fa45",
   "metadata": {},
   "outputs": [
    {
     "data": {
      "text/plain": [
       "False"
      ]
     },
     "execution_count": 1,
     "metadata": {},
     "output_type": "execute_result"
    }
   ],
   "source": [
    "1 > 2"
   ]
  },
  {
   "cell_type": "code",
   "execution_count": 2,
   "id": "1b6ac692",
   "metadata": {},
   "outputs": [
    {
     "data": {
      "text/plain": [
       "True"
      ]
     },
     "execution_count": 2,
     "metadata": {},
     "output_type": "execute_result"
    }
   ],
   "source": [
    "10 >= 10"
   ]
  },
  {
   "cell_type": "code",
   "execution_count": 3,
   "id": "e5b6e59e",
   "metadata": {},
   "outputs": [
    {
     "data": {
      "text/plain": [
       "True"
      ]
     },
     "execution_count": 3,
     "metadata": {},
     "output_type": "execute_result"
    }
   ],
   "source": [
    "9 < 10"
   ]
  },
  {
   "cell_type": "code",
   "execution_count": 4,
   "id": "02087ba8",
   "metadata": {},
   "outputs": [
    {
     "data": {
      "text/plain": [
       "False"
      ]
     },
     "execution_count": 4,
     "metadata": {},
     "output_type": "execute_result"
    }
   ],
   "source": [
    "8 <= 7"
   ]
  },
  {
   "cell_type": "markdown",
   "id": "fad8f293",
   "metadata": {},
   "source": [
    "##  같다와 같지 않다\n",
    "\n",
    "### == : 같음을 비교\n",
    "\n",
    "- `=`는 대입 연산자 입니다.\n",
    "- 코딩에서는 `=`이 대입 연산자로 사용되기 때문에 `==`을 사용하고 있습니다."
   ]
  },
  {
   "cell_type": "code",
   "execution_count": 5,
   "id": "b60785eb",
   "metadata": {},
   "outputs": [
    {
     "ename": "SyntaxError",
     "evalue": "cannot assign to literal (<ipython-input-5-a8e553549e25>, line 1)",
     "output_type": "error",
     "traceback": [
      "\u001b[1;36m  File \u001b[1;32m\"<ipython-input-5-a8e553549e25>\"\u001b[1;36m, line \u001b[1;32m1\u001b[0m\n\u001b[1;33m    2 = 2\u001b[0m\n\u001b[1;37m    ^\u001b[0m\n\u001b[1;31mSyntaxError\u001b[0m\u001b[1;31m:\u001b[0m cannot assign to literal\n"
     ]
    }
   ],
   "source": [
    "2 = 2"
   ]
  },
  {
   "cell_type": "code",
   "execution_count": 6,
   "id": "c2a99cb5",
   "metadata": {},
   "outputs": [
    {
     "data": {
      "text/plain": [
       "True"
      ]
     },
     "execution_count": 6,
     "metadata": {},
     "output_type": "execute_result"
    }
   ],
   "source": [
    "2 == 2"
   ]
  },
  {
   "cell_type": "code",
   "execution_count": 7,
   "id": "ca91dd51",
   "metadata": {},
   "outputs": [
    {
     "data": {
      "text/plain": [
       "False"
      ]
     },
     "execution_count": 7,
     "metadata": {},
     "output_type": "execute_result"
    }
   ],
   "source": [
    "2 == 3"
   ]
  },
  {
   "cell_type": "markdown",
   "id": "6c06c8ef",
   "metadata": {},
   "source": [
    "### != 같지 않음을 비교"
   ]
  },
  {
   "cell_type": "code",
   "execution_count": 8,
   "id": "bf88007d",
   "metadata": {},
   "outputs": [
    {
     "data": {
      "text/plain": [
       "False"
      ]
     },
     "execution_count": 8,
     "metadata": {},
     "output_type": "execute_result"
    }
   ],
   "source": [
    "2 != 2"
   ]
  },
  {
   "cell_type": "code",
   "execution_count": 9,
   "id": "e6ac2c5e",
   "metadata": {},
   "outputs": [
    {
     "data": {
      "text/plain": [
       "True"
      ]
     },
     "execution_count": 9,
     "metadata": {},
     "output_type": "execute_result"
    }
   ],
   "source": [
    "1 != 2"
   ]
  },
  {
   "cell_type": "code",
   "execution_count": 10,
   "id": "70b46470",
   "metadata": {},
   "outputs": [
    {
     "data": {
      "text/plain": [
       "True"
      ]
     },
     "execution_count": 10,
     "metadata": {},
     "output_type": "execute_result"
    }
   ],
   "source": [
    "'나' != '너'"
   ]
  },
  {
   "cell_type": "code",
   "execution_count": 11,
   "id": "0817a6c0",
   "metadata": {},
   "outputs": [
    {
     "data": {
      "text/plain": [
       "False"
      ]
     },
     "execution_count": 11,
     "metadata": {},
     "output_type": "execute_result"
    }
   ],
   "source": [
    "'나' != '나'"
   ]
  },
  {
   "cell_type": "markdown",
   "id": "5400a996",
   "metadata": {},
   "source": [
    "### 조건문\n",
    "\n",
    "조건문이란 무엇일까요?\n",
    "\n",
    "주어진 조건이 **참**인 경우 그 다음 내가 정한 규칙(로직)을 실행하는 개념입니다."
   ]
  },
  {
   "cell_type": "markdown",
   "id": "f978aaf1",
   "metadata": {},
   "source": [
    "### if\n",
    "\n",
    "- if는 어떤 조건이 성립한다면~ 이라는 뜻입니다.\n",
    "- if구문 끝에는 반드시 콜론(:)을 잊지 말아 주세요"
   ]
  },
  {
   "cell_type": "code",
   "execution_count": 12,
   "id": "4d7c4fde",
   "metadata": {},
   "outputs": [
    {
     "name": "stdout",
     "output_type": "stream",
     "text": [
      "참\n"
     ]
    }
   ],
   "source": [
    "if 5 > 3:\n",
    "    print('참')"
   ]
  },
  {
   "cell_type": "code",
   "execution_count": 13,
   "id": "cecd62d1",
   "metadata": {},
   "outputs": [
    {
     "name": "stdout",
     "output_type": "stream",
     "text": [
      "끝\n"
     ]
    }
   ],
   "source": [
    "if 5 < 3:\n",
    "    print('참')\n",
    "    print('참')\n",
    "    print('참')\n",
    "    print('참')\n",
    "    \n",
    "print('끝')"
   ]
  },
  {
   "cell_type": "code",
   "execution_count": 14,
   "id": "4a9990d0",
   "metadata": {},
   "outputs": [],
   "source": [
    "if 5 < 3:\n",
    "    print('참')"
   ]
  },
  {
   "cell_type": "markdown",
   "id": "5ffb502e",
   "metadata": {},
   "source": [
    "### else\n",
    "\n",
    "else는 if 조건 후에 따라오며, if가 아닌 경우에 실행됩니다."
   ]
  },
  {
   "cell_type": "code",
   "execution_count": 15,
   "id": "9cc27bbb",
   "metadata": {},
   "outputs": [
    {
     "name": "stdout",
     "output_type": "stream",
     "text": [
      "else 구문 실행\n"
     ]
    }
   ],
   "source": [
    "if 5 < 3:\n",
    "    print('if 구문 실행')\n",
    "else:\n",
    "    print('else 구문 실행')"
   ]
  },
  {
   "cell_type": "markdown",
   "id": "b9184823",
   "metadata": {},
   "source": [
    "하지만, else만 단독으로 실행한다면?"
   ]
  },
  {
   "cell_type": "code",
   "execution_count": 16,
   "id": "1d060037",
   "metadata": {},
   "outputs": [
    {
     "ename": "SyntaxError",
     "evalue": "invalid syntax (<ipython-input-16-5018a7ac68d5>, line 1)",
     "output_type": "error",
     "traceback": [
      "\u001b[1;36m  File \u001b[1;32m\"<ipython-input-16-5018a7ac68d5>\"\u001b[1;36m, line \u001b[1;32m1\u001b[0m\n\u001b[1;33m    else:\u001b[0m\n\u001b[1;37m    ^\u001b[0m\n\u001b[1;31mSyntaxError\u001b[0m\u001b[1;31m:\u001b[0m invalid syntax\n"
     ]
    }
   ],
   "source": [
    "else:\n",
    "    print('else 구문 실행')"
   ]
  },
  {
   "cell_type": "markdown",
   "id": "5c95e11b",
   "metadata": {},
   "source": [
    "### elif\n",
    "\n",
    "elif 구문은 3가지 이상 분기 (조건)의 동작을 수행할 때 사용합니다."
   ]
  },
  {
   "cell_type": "code",
   "execution_count": 17,
   "id": "a8045b8b",
   "metadata": {},
   "outputs": [
    {
     "name": "stdout",
     "output_type": "stream",
     "text": [
      "elif 구문\n"
     ]
    }
   ],
   "source": [
    "if 3 > 5:\n",
    "    print('if 구문')\n",
    "elif 3 < 4:\n",
    "    print('elif 구문')\n",
    "else:\n",
    "    print('이것도 거젓도 아니다')"
   ]
  },
  {
   "cell_type": "markdown",
   "id": "2921244d",
   "metadata": {},
   "source": [
    "그럼, **elif 구문이 참인 여러 구문**을 나열 했을 때는 어떻게 될까요?\n",
    "\n",
    " 한 번 고민해보고 실행하세요"
   ]
  },
  {
   "cell_type": "code",
   "execution_count": 19,
   "id": "3a945157",
   "metadata": {},
   "outputs": [
    {
     "name": "stdout",
     "output_type": "stream",
     "text": [
      "elif 3 구문\n"
     ]
    }
   ],
   "source": [
    "if 3 > 5:\n",
    "    print('if 구문')\n",
    "elif 3 > 4:\n",
    "    print('elif 1 구문')\n",
    "elif 3 > 5:\n",
    "    print('elif 2 구문')\n",
    "elif 3 < 6:\n",
    "    print('elif 3 구문')\n",
    "else:\n",
    "    print('이것도 저것도 아니다')"
   ]
  },
  {
   "cell_type": "markdown",
   "id": "f4fa515a",
   "metadata": {},
   "source": [
    "### 1이나 0은 참 이나 거짓을 표현하기도 합니다."
   ]
  },
  {
   "cell_type": "code",
   "execution_count": 20,
   "id": "26fbed15",
   "metadata": {},
   "outputs": [
    {
     "name": "stdout",
     "output_type": "stream",
     "text": [
      "참\n"
     ]
    }
   ],
   "source": [
    "if 1:\n",
    "    print('참')\n",
    "else:\n",
    "    print('거짓')"
   ]
  },
  {
   "cell_type": "code",
   "execution_count": 21,
   "id": "7c29c4f0",
   "metadata": {},
   "outputs": [
    {
     "name": "stdout",
     "output_type": "stream",
     "text": [
      "거짓\n"
     ]
    }
   ],
   "source": [
    "if 0:\n",
    "    print('참')\n",
    "else:\n",
    "    print('거짓')"
   ]
  },
  {
   "cell_type": "markdown",
   "id": "43d0c19d",
   "metadata": {},
   "source": [
    "### 삼항연산자\n",
    "\n",
    "(문법)**(참인 값)if조건else(거짓인경우 값)**\n",
    "\n",
    "삼항연산자는 파이썬 문법에서 흔히 볼 수 있는 연산자 이며, 조건에 대한 참인 경우의 값 그렇지 않은 경우의 값을 뒤에 지정합니다."
   ]
  },
  {
   "cell_type": "code",
   "execution_count": 22,
   "id": "c193f42b",
   "metadata": {},
   "outputs": [
    {
     "data": {
      "text/plain": [
       "'30세 이상입니다.'"
      ]
     },
     "execution_count": 22,
     "metadata": {},
     "output_type": "execute_result"
    }
   ],
   "source": [
    "age = 35\n",
    "\n",
    "\"30세 이상입니다.\" if age >= 30 else \"30세 이하입니다.\""
   ]
  },
  {
   "cell_type": "code",
   "execution_count": 23,
   "id": "2547a258",
   "metadata": {},
   "outputs": [
    {
     "data": {
      "text/plain": [
       "'30세 이하입니다.'"
      ]
     },
     "execution_count": 23,
     "metadata": {},
     "output_type": "execute_result"
    }
   ],
   "source": [
    "age = 20\n",
    "\n",
    "\"30세 이상입니다.\" if age >= 30 else \"30세 이하입니다.\""
   ]
  },
  {
   "cell_type": "markdown",
   "id": "9dd50423",
   "metadata": {},
   "source": [
    "## 논리 연산자 (and, or, not)\n",
    "\n",
    "**and**나 **or**조건은 두 가지 이상 조건을 다룰 때 활용합니다."
   ]
  },
  {
   "cell_type": "markdown",
   "id": "b21d1176",
   "metadata": {},
   "source": [
    "### and\n",
    "\n",
    "- and 조건은 **모두 만족**할 때 참으로 인식합니다."
   ]
  },
  {
   "cell_type": "code",
   "execution_count": 24,
   "id": "c070db87",
   "metadata": {},
   "outputs": [
    {
     "data": {
      "text/plain": [
       "True"
      ]
     },
     "execution_count": 24,
     "metadata": {},
     "output_type": "execute_result"
    }
   ],
   "source": [
    "True and True and True"
   ]
  },
  {
   "cell_type": "code",
   "execution_count": 25,
   "id": "bb99a500",
   "metadata": {},
   "outputs": [
    {
     "data": {
      "text/plain": [
       "False"
      ]
     },
     "execution_count": 25,
     "metadata": {},
     "output_type": "execute_result"
    }
   ],
   "source": [
    "True and False and True"
   ]
  },
  {
   "cell_type": "code",
   "execution_count": 26,
   "id": "e9fdbe8a",
   "metadata": {},
   "outputs": [
    {
     "name": "stdout",
     "output_type": "stream",
     "text": [
      "모두 참\n"
     ]
    }
   ],
   "source": [
    "if (0 < 1) and (0 < 2):\n",
    "    print('모두 참')\n",
    "else:\n",
    "    print('거짓')"
   ]
  },
  {
   "cell_type": "code",
   "execution_count": 27,
   "id": "5654db09",
   "metadata": {},
   "outputs": [
    {
     "name": "stdout",
     "output_type": "stream",
     "text": [
      "허참\n"
     ]
    }
   ],
   "source": [
    "if (0 < 1) and (0 > 2):\n",
    "    print('모두 참')\n",
    "else:\n",
    "    print('허참')"
   ]
  },
  {
   "cell_type": "markdown",
   "id": "da189b9f",
   "metadata": {},
   "source": [
    "### or\n",
    "\n",
    "- or조건은 조건중 **하나라도 만족**할 때 참으로 인식합니다."
   ]
  },
  {
   "cell_type": "code",
   "execution_count": 28,
   "id": "b219188a",
   "metadata": {},
   "outputs": [
    {
     "data": {
      "text/plain": [
       "True"
      ]
     },
     "execution_count": 28,
     "metadata": {},
     "output_type": "execute_result"
    }
   ],
   "source": [
    "True or False or False"
   ]
  },
  {
   "cell_type": "code",
   "execution_count": 29,
   "id": "0733acd1",
   "metadata": {},
   "outputs": [
    {
     "data": {
      "text/plain": [
       "False"
      ]
     },
     "execution_count": 29,
     "metadata": {},
     "output_type": "execute_result"
    }
   ],
   "source": [
    "False or False or False"
   ]
  },
  {
   "cell_type": "code",
   "execution_count": 30,
   "id": "9c09b72f",
   "metadata": {},
   "outputs": [
    {
     "name": "stdout",
     "output_type": "stream",
     "text": [
      "하나라도 참\n"
     ]
    }
   ],
   "source": [
    "if (0 < 1) or (1 < 0):\n",
    "    print('하나라도 참')\n",
    "else:\n",
    "    print('허참')"
   ]
  },
  {
   "cell_type": "code",
   "execution_count": 31,
   "id": "0a3ad1f0",
   "metadata": {},
   "outputs": [
    {
     "name": "stdout",
     "output_type": "stream",
     "text": [
      "허참\n"
     ]
    }
   ],
   "source": [
    "if (10 < 1) or ( 1 < 0):\n",
    "    print('하나라도 참')\n",
    "else:\n",
    "    print('허참')"
   ]
  },
  {
   "cell_type": "markdown",
   "id": "643b771b",
   "metadata": {},
   "source": [
    "### not\n",
    "\n",
    "- bool 값을 반전시킵니다."
   ]
  },
  {
   "cell_type": "code",
   "execution_count": 32,
   "id": "cd7e9d9e",
   "metadata": {},
   "outputs": [
    {
     "data": {
      "text/plain": [
       "False"
      ]
     },
     "execution_count": 32,
     "metadata": {},
     "output_type": "execute_result"
    }
   ],
   "source": [
    "not True"
   ]
  },
  {
   "cell_type": "code",
   "execution_count": 33,
   "id": "0dfffd82",
   "metadata": {},
   "outputs": [
    {
     "data": {
      "text/plain": [
       "True"
      ]
     },
     "execution_count": 33,
     "metadata": {},
     "output_type": "execute_result"
    }
   ],
   "source": [
    "not False"
   ]
  },
  {
   "cell_type": "code",
   "execution_count": 34,
   "id": "e5516495",
   "metadata": {},
   "outputs": [],
   "source": [
    "if not True:\n",
    "    print('not True')"
   ]
  },
  {
   "cell_type": "code",
   "execution_count": 36,
   "id": "4546978f",
   "metadata": {},
   "outputs": [
    {
     "name": "stdout",
     "output_type": "stream",
     "text": [
      "not False\n"
     ]
    }
   ],
   "source": [
    "if not False:\n",
    "    print('not False')"
   ]
  }
 ],
 "metadata": {
  "kernelspec": {
   "display_name": "Python 3",
   "language": "python",
   "name": "python3"
  },
  "language_info": {
   "codemirror_mode": {
    "name": "ipython",
    "version": 3
   },
   "file_extension": ".py",
   "mimetype": "text/x-python",
   "name": "python",
   "nbconvert_exporter": "python",
   "pygments_lexer": "ipython3",
   "version": "3.8.8"
  }
 },
 "nbformat": 4,
 "nbformat_minor": 5
}
