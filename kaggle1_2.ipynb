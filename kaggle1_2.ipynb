{
  "nbformat": 4,
  "nbformat_minor": 0,
  "metadata": {
    "colab": {
      "name": "kaggle1-2.ipynb",
      "private_outputs": true,
      "provenance": [],
      "authorship_tag": "ABX9TyM5/1m0+oVLjr7oRhQwx3lP",
      "include_colab_link": true
    },
    "kernelspec": {
      "name": "python3",
      "display_name": "Python 3"
    },
    "language_info": {
      "name": "python"
    }
  },
  "cells": [
    {
      "cell_type": "markdown",
      "metadata": {
        "id": "view-in-github",
        "colab_type": "text"
      },
      "source": [
        "<a href=\"https://colab.research.google.com/github/kyk0325v/python-pratice/blob/main/kaggle1_2.ipynb\" target=\"_parent\"><img src=\"https://colab.research.google.com/assets/colab-badge.svg\" alt=\"Open In Colab\"/></a>"
      ]
    },
    {
      "cell_type": "markdown",
      "source": [
        "# Part 2: 데이터 분석 입문자로써 꼭 알아야 할 pandas 기능"
      ],
      "metadata": {
        "id": "1gW-B1u_eiWu"
      }
    },
    {
      "cell_type": "markdown",
      "source": [
        "**<간단 산술 통계>를 위한 기능**\n",
        "\n",
        "- **info()**: 데이터의 간단한 정보를 살펴봅니다.\n",
        "- **describe()**: 데이터의 산술 통계 정보를 살펴봅니다.\n",
        "- **isnull()**: 데이터가 누락되었는지 여부를 확인합니다.\n",
        "- **sum()**: 데이터를 합산합니다. (Excel의 sum)\n",
        "- **value_counts()**: 데이터의 종류별 갯수를 확인합니다. (사과: 2개, 배: 3개)\n",
        "\n",
        "**<고급 산술 통계>**를 위한 기능\n",
        "\n",
        "- **groupby(혹은 pivot_table)**: 엑셀의 피벗테이블과 동일합니다. 연도별, 성별 통계량과 같이 특정 coulumn으로 데이터를 뽑아낼 때 활용합니다.\n",
        "\n",
        "**<조건 필터링>을 위한 기능**\n",
        "\n",
        "- **loc**: 조건문에 대한 필터를 걸어 데이터를 확인합니다.\n",
        "- **&와 | 연산자**: &(and) 조건은 모두 만족하는 경우. |(or)조건은 하나의 조건이라도 만족하는 경우를 말합니다.\n",
        "\n",
        "**<데이터 전처리>를 위한 기능**\n",
        "\n",
        "- **replace()**: 데이터를 다른 값으로 일괄 바꿔줄 때 활용합니다.\n",
        "- **fillna()**: 빈 값을 채워줄 때 활용합니다. fill na입니다. 여기서는 na는 NaN(Not a Number)를 지칭하며, 숫자 뿐만아니라 비어 있는 값을 통틀어 지칭합니다.\n",
        "- **map()**: 데이터를 매핑해줍니다. 가령 사과=1, 배=2라고 매핑해준다고 한다면, 사과가 들어 있는 데이터는 모두 1로, 배가 들어 있는 데이터는 모두 2로 변경해 줍니다."
      ],
      "metadata": {
        "id": "CG4PcVrseoQl"
      }
    },
    {
      "cell_type": "markdown",
      "source": [
        "## info(): 데이터의 간단한 정보를 살펴봅니다.\n",
        "\n",
        "아래 표를 보시면, **그룹** 열(column)에 갯수가 하나 부족한 것을 확인할 수 있습니다.\n",
        "데이터 분석에서는 비어있는 값을 확인하고 처리해야 하는 작업이 매우 중요합니다.\n",
        "\n",
        "보통 데이터 분석에 본격적으로 시작하기에 앞서, **비어있는 값을 간단히 체크**하거나, **데이터의 타입을 확인**할 때 사용합니다."
      ],
      "metadata": {
        "id": "ri9dYLaJeqyP"
      }
    },
    {
      "cell_type": "code",
      "source": [
        "import pandas as pd\n",
        "pd.set_option('display.float_format', lambda x: '%.1f' % x)\n",
        "data = pd.read_csv('http://bit.ly/ld-sample-idol', index_col='순위')\n",
        "data.info()"
      ],
      "metadata": {
        "id": "x-sH75bVhRZu"
      },
      "execution_count": null,
      "outputs": []
    },
    {
      "cell_type": "markdown",
      "source": [
        "## describe(): 데이터의 산술 통계 정보를 살펴봅니다.\n",
        "\n",
        "describe() 함수는 산술적인 통계 정보를 보여줍니다. 그렇기 때문에 **산술 가능한 column**인 '키'와 '브랜드평판지수'에 대해서만 보여줍니다.\n",
        "산술 가능하다는 말은 숫자형 데이터로 이루어져 있다는 뜻입니다.\n"
      ],
      "metadata": {
        "id": "HpZIQUEjhSSb"
      }
    },
    {
      "cell_type": "code",
      "source": [
        "data.describe()"
      ],
      "metadata": {
        "id": "7-xZekgUi6q2"
      },
      "execution_count": null,
      "outputs": []
    },
    {
      "cell_type": "markdown",
      "source": [
        "## isnull(): 데이터가 누락되었는지 여부를 확인합니다.\n",
        "\n",
        "isnull 이라는 함수는 빈 값인지 아닌지 여부를 보여줍니다."
      ],
      "metadata": {
        "id": "09nwJwT6i8dR"
      }
    },
    {
      "cell_type": "code",
      "source": [
        "data['그룹'].isnull()"
      ],
      "metadata": {
        "id": "1kp4mderjfl9"
      },
      "execution_count": null,
      "outputs": []
    },
    {
      "cell_type": "markdown",
      "source": [
        "위에서 보면 True라고 되어 있는 행은 값이 비어있다는 뜻입니다.\n",
        "\n",
        "총 비어 있는 행(row)의 갯수를 알고 싶다면, isnull()과 합계 함수인 sum()을 연속하여 (chain command) 작성합니다."
      ],
      "metadata": {
        "id": "XWPOqe9Kjhod"
      }
    },
    {
      "cell_type": "code",
      "source": [
        "data['그룹'].isnull().sum()"
      ],
      "metadata": {
        "id": "42PVWhbNjv3M"
      },
      "execution_count": null,
      "outputs": []
    },
    {
      "cell_type": "markdown",
      "source": [
        ""
      ],
      "metadata": {
        "id": "rk1MMGh2jyYX"
      }
    }
  ]
}