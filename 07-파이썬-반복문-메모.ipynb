{
 "cells": [
  {
   "cell_type": "markdown",
   "id": "2592b0ef",
   "metadata": {},
   "source": [
    "## 반복문\n",
    "\n",
    "- 1회 이상 반복해서 수행하는 일을 반복문으로 통해 쉽게 해결할 수 있습니다.\n",
    "- 반드시 list, tuple, dict, set등 집합에 대한 순회를 돌며 일을 처리할 때 많이 쓰입니다.\n",
    "- list, tuple, dict, set, 문자열까지 모두 **순회가능한(iterable) 객체** 입니다.\n",
    "- 순회가능한(iterable) 객체는 반복문을 통해 순회할 수 있습니다."
   ]
  },
  {
   "cell_type": "code",
   "execution_count": 1,
   "id": "172448ea",
   "metadata": {},
   "outputs": [],
   "source": [
    "mylist = [1, 2, 3, 4, 5, 6, 7, 8, 9, 10]"
   ]
  },
  {
   "cell_type": "markdown",
   "id": "217055c4",
   "metadata": {},
   "source": [
    "mylist에 들어 있는 모든 값들을 출력하려고 한다면?"
   ]
  },
  {
   "cell_type": "code",
   "execution_count": 3,
   "id": "677fe016",
   "metadata": {},
   "outputs": [
    {
     "name": "stdout",
     "output_type": "stream",
     "text": [
      "1\n",
      "2\n",
      "3\n",
      "...\n",
      "9\n",
      "10\n"
     ]
    }
   ],
   "source": [
    "print(mylist[0])\n",
    "print(mylist[1])\n",
    "print(mylist[2])\n",
    "print('...')\n",
    "print(mylist[8])\n",
    "print(mylist[9])"
   ]
  },
  {
   "cell_type": "markdown",
   "id": "09dc3bba",
   "metadata": {},
   "source": [
    "노가다를 획기적으로 줄여주는 방법!!!"
   ]
  },
  {
   "cell_type": "markdown",
   "id": "d03c8364",
   "metadata": {},
   "source": [
    "## for 와  in 구문 (반복문)"
   ]
  },
  {
   "cell_type": "markdown",
   "id": "36229f76",
   "metadata": {},
   "source": [
    "**[기본 문법]**\n",
    "for 하나씩 꺼내올 때 변수 in [꺼내올 집합]:\n",
    "(indent)\n",
    "\n",
    "- list, tuple, set, dictionary, 문자열 형태 모두 가능\n",
    "- range와 결합하여 사용 가능"
   ]
  },
  {
   "cell_type": "markdown",
   "id": "b7193436",
   "metadata": {},
   "source": [
    "## 리스트(list)"
   ]
  },
  {
   "cell_type": "code",
   "execution_count": 4,
   "id": "ff341e2c",
   "metadata": {},
   "outputs": [],
   "source": [
    "mylist = [1, 2, 3, 4, 5]"
   ]
  },
  {
   "cell_type": "code",
   "execution_count": 5,
   "id": "b764a556",
   "metadata": {},
   "outputs": [
    {
     "name": "stdout",
     "output_type": "stream",
     "text": [
      "1\n",
      "2\n",
      "3\n",
      "4\n",
      "5\n"
     ]
    }
   ],
   "source": [
    "for i in mylist:\n",
    "    print(i)"
   ]
  },
  {
   "cell_type": "markdown",
   "id": "a44255c9",
   "metadata": {},
   "source": [
    "## 튜플(tuple)"
   ]
  },
  {
   "cell_type": "code",
   "execution_count": 6,
   "id": "4ea61df7",
   "metadata": {},
   "outputs": [
    {
     "name": "stdout",
     "output_type": "stream",
     "text": [
      "1\n",
      "2\n",
      "3\n",
      "4\n",
      "5\n"
     ]
    }
   ],
   "source": [
    "for i in (1, 2, 3, 4, 5):\n",
    "    print(i)"
   ]
  },
  {
   "cell_type": "markdown",
   "id": "874c3bf0",
   "metadata": {},
   "source": [
    "## tuple + list"
   ]
  },
  {
   "cell_type": "markdown",
   "id": "74a7a052",
   "metadata": {},
   "source": [
    "tuple을 전체로 받아주는 경우"
   ]
  },
  {
   "cell_type": "code",
   "execution_count": 7,
   "id": "5698593f",
   "metadata": {},
   "outputs": [
    {
     "name": "stdout",
     "output_type": "stream",
     "text": [
      "('제이콥스', 10)\n",
      "제이콥스\n",
      "10\n"
     ]
    }
   ],
   "source": [
    "person = ('제이콥스', 10)\n",
    "print(person)\n",
    "print(person[0])\n",
    "print(person[1])"
   ]
  },
  {
   "cell_type": "markdown",
   "id": "514fc22f",
   "metadata": {},
   "source": [
    "tuple의 요소를 개별로 받아주는 경우"
   ]
  },
  {
   "cell_type": "code",
   "execution_count": 8,
   "id": "ee8fcbc7",
   "metadata": {},
   "outputs": [
    {
     "name": "stdout",
     "output_type": "stream",
     "text": [
      "제이콥스\n",
      "10\n"
     ]
    }
   ],
   "source": [
    "name, age = ('제이콥스', 10)\n",
    "print(name)\n",
    "print(age)"
   ]
  },
  {
   "cell_type": "markdown",
   "id": "327e4c54",
   "metadata": {},
   "source": [
    "반복문에서의 응용"
   ]
  },
  {
   "cell_type": "code",
   "execution_count": 9,
   "id": "0c95749c",
   "metadata": {},
   "outputs": [
    {
     "name": "stdout",
     "output_type": "stream",
     "text": [
      "제이콥스 10\n",
      "피터 20\n",
      "타이거 30\n"
     ]
    }
   ],
   "source": [
    "mytuplelist = [('제이콥스', 10), ('피터', 20), ('타이거', 30)]\n",
    "\n",
    "for mytuple in mytuplelist:\n",
    "    print(mytuple[0], mytuple[1])"
   ]
  },
  {
   "cell_type": "code",
   "execution_count": 10,
   "id": "f8032acf",
   "metadata": {},
   "outputs": [
    {
     "name": "stdout",
     "output_type": "stream",
     "text": [
      "제이콥스 10\n",
      "피터 20\n",
      "타이거 30\n"
     ]
    }
   ],
   "source": [
    "mytuplelist = [('제이콥스', 10), ('피터', 20), ('타이거', 30)]\n",
    "\n",
    "for name, age in mytuplelist:\n",
    "    print(name, age)"
   ]
  },
  {
   "cell_type": "markdown",
   "id": "6795af25",
   "metadata": {},
   "source": [
    "## 딕셔너리(dictionary)"
   ]
  },
  {
   "cell_type": "code",
   "execution_count": 11,
   "id": "0b606642",
   "metadata": {},
   "outputs": [],
   "source": [
    "mydict = {'헐크': 50, '아이언맨': 60, '펭수': 70}"
   ]
  },
  {
   "cell_type": "code",
   "execution_count": 12,
   "id": "ebf4f4a3",
   "metadata": {},
   "outputs": [
    {
     "name": "stdout",
     "output_type": "stream",
     "text": [
      "헐크\n",
      "아이언맨\n",
      "펭수\n"
     ]
    }
   ],
   "source": [
    "for key in mydict.keys():\n",
    "    print(key)"
   ]
  },
  {
   "cell_type": "code",
   "execution_count": 14,
   "id": "cb5cfc2a",
   "metadata": {},
   "outputs": [
    {
     "name": "stdout",
     "output_type": "stream",
     "text": [
      "50\n",
      "60\n",
      "70\n"
     ]
    }
   ],
   "source": [
    "for value in mydict.values():\n",
    "    print(value)"
   ]
  },
  {
   "cell_type": "code",
   "execution_count": 15,
   "id": "3b9e0459",
   "metadata": {},
   "outputs": [
    {
     "name": "stdout",
     "output_type": "stream",
     "text": [
      "헐크 50\n",
      "아이언맨 60\n",
      "펭수 70\n"
     ]
    }
   ],
   "source": [
    "for name, age in mydict.items():\n",
    "    print(name, age)"
   ]
  },
  {
   "cell_type": "markdown",
   "id": "26c0460b",
   "metadata": {},
   "source": [
    "## 문자열(str)"
   ]
  },
  {
   "cell_type": "code",
   "execution_count": 16,
   "id": "7fa20400",
   "metadata": {},
   "outputs": [
    {
     "name": "stdout",
     "output_type": "stream",
     "text": [
      "H\n",
      "e\n",
      "l\n",
      "l\n",
      "o\n"
     ]
    }
   ],
   "source": [
    "for c in \"Hello\":\n",
    "    print(c)"
   ]
  },
  {
   "cell_type": "markdown",
   "id": "3dd3bd4c",
   "metadata": {},
   "source": [
    "## range()\n",
    "\n",
    "- `range()`함수는 별도의 list, tuple 생성 없이 range() 에서 정의한 범위를 반복하는데 활용할 수 있습니다.\n",
    "- `range(start, stop, step)`형식을 사용합니다."
   ]
  },
  {
   "cell_type": "markdown",
   "id": "c15da48c",
   "metadata": {},
   "source": [
    "`stop`: 단일 값을 지정하는 경우"
   ]
  },
  {
   "cell_type": "code",
   "execution_count": 17,
   "id": "9a265b43",
   "metadata": {},
   "outputs": [
    {
     "name": "stdout",
     "output_type": "stream",
     "text": [
      "0\n",
      "1\n",
      "2\n",
      "3\n",
      "4\n",
      "5\n",
      "6\n",
      "7\n",
      "8\n",
      "9\n"
     ]
    }
   ],
   "source": [
    "for i in range(10):\n",
    "    print(i)"
   ]
  },
  {
   "cell_type": "markdown",
   "id": "6519a79e",
   "metadata": {},
   "source": [
    "`start`,`stop`: 두 개의 값을 지정한 경우"
   ]
  },
  {
   "cell_type": "code",
   "execution_count": 18,
   "id": "13e588e9",
   "metadata": {},
   "outputs": [
    {
     "name": "stdout",
     "output_type": "stream",
     "text": [
      "2\n",
      "3\n",
      "4\n",
      "5\n",
      "6\n",
      "7\n",
      "8\n"
     ]
    }
   ],
   "source": [
    "for i in range(2, 9):\n",
    "    print(i)"
   ]
  },
  {
   "cell_type": "markdown",
   "id": "073e0e6f",
   "metadata": {},
   "source": [
    "`start`, `stop`, `step`: 세 개의 값을 지정한 경우"
   ]
  },
  {
   "cell_type": "markdown",
   "id": "a794506d",
   "metadata": {},
   "source": [
    "## 반복문의 중첩"
   ]
  },
  {
   "cell_type": "code",
   "execution_count": 19,
   "id": "bf9202e7",
   "metadata": {},
   "outputs": [
    {
     "name": "stdout",
     "output_type": "stream",
     "text": [
      "(i=1 + (j=1) = 1\n",
      "(i=1 + (j=2) = 2\n",
      "(i=1 + (j=3) = 3\n",
      "===\n",
      "(i=2 + (j=1) = 2\n",
      "(i=2 + (j=2) = 4\n",
      "(i=2 + (j=3) = 6\n",
      "===\n",
      "(i=3 + (j=1) = 3\n",
      "(i=3 + (j=2) = 6\n",
      "(i=3 + (j=3) = 9\n",
      "===\n"
     ]
    }
   ],
   "source": [
    "for i in range(1, 4):\n",
    "    for j in range(1, 4):\n",
    "        print(f'(i={i} + (j={j}) = {i * j}')\n",
    "    print('===')"
   ]
  },
  {
   "cell_type": "markdown",
   "id": "ab654ea4",
   "metadata": {},
   "source": [
    "## 제어문"
   ]
  },
  {
   "cell_type": "markdown",
   "id": "815f01f8",
   "metadata": {},
   "source": [
    "### continue\n",
    "\n",
    "- 반복문 내부에서 `continue` 구문은 해당 루프(loop)를 건너뛰게 합니다.\n",
    "- `continue`라는 구문을 만나면, 반복문에서 `continue` 아래 작성된 코드는 **실행되지 않고 건너뜁니다.**"
   ]
  },
  {
   "cell_type": "code",
   "execution_count": 20,
   "id": "1285da3d",
   "metadata": {},
   "outputs": [],
   "source": [
    "mylist = [1, 2, 3, 4, 5, 6, 7, 8, 9, 10]"
   ]
  },
  {
   "cell_type": "markdown",
   "id": "26025033",
   "metadata": {},
   "source": [
    "**반복문**과 **조건문** 그리고 `continue`를 활용하여 **짝무만 출력**해 주세요"
   ]
  },
  {
   "cell_type": "code",
   "execution_count": 21,
   "id": "0245aebb",
   "metadata": {},
   "outputs": [
    {
     "name": "stdout",
     "output_type": "stream",
     "text": [
      "2\n",
      "4\n",
      "6\n",
      "8\n",
      "10\n"
     ]
    }
   ],
   "source": [
    "for i in mylist:\n",
    "    if i % 2 == 1:\n",
    "        continue\n",
    "    print(i)"
   ]
  },
  {
   "cell_type": "markdown",
   "id": "0a988f31",
   "metadata": {},
   "source": [
    "## braek\n",
    "\n",
    "- **break** 구문을 만나면, **반복 루프(loop)는 즉시 종료**됩니다."
   ]
  },
  {
   "cell_type": "code",
   "execution_count": 22,
   "id": "c3d8c164",
   "metadata": {},
   "outputs": [],
   "source": [
    "mylist = [1, 2, 3, 4, 5, 6, 7, 8, 9, 10]"
   ]
  },
  {
   "cell_type": "markdown",
   "id": "9f16e41e",
   "metadata": {},
   "source": [
    "`break`를 사용하여 i가 6 이상이면 STOP"
   ]
  },
  {
   "cell_type": "code",
   "execution_count": 23,
   "id": "b21af8bb",
   "metadata": {},
   "outputs": [
    {
     "name": "stdout",
     "output_type": "stream",
     "text": [
      "1\n",
      "2\n",
      "3\n",
      "4\n",
      "5\n"
     ]
    }
   ],
   "source": [
    "for i in mylist:\n",
    "    if i >= 6:\n",
    "        break\n",
    "    print(i)"
   ]
  },
  {
   "cell_type": "markdown",
   "id": "e20adad2",
   "metadata": {},
   "source": [
    "### break, continue 차이"
   ]
  },
  {
   "cell_type": "code",
   "execution_count": 24,
   "id": "b6096e1d",
   "metadata": {},
   "outputs": [
    {
     "name": "stdout",
     "output_type": "stream",
     "text": [
      "0\n",
      "1\n",
      "2\n",
      "3\n",
      "4\n"
     ]
    }
   ],
   "source": [
    "for i in range(10):\n",
    "    if i == 5:\n",
    "        break\n",
    "    print(i)"
   ]
  },
  {
   "cell_type": "code",
   "execution_count": 25,
   "id": "d523abc4",
   "metadata": {},
   "outputs": [
    {
     "name": "stdout",
     "output_type": "stream",
     "text": [
      "0\n",
      "1\n",
      "2\n",
      "3\n",
      "4\n",
      "6\n",
      "7\n",
      "8\n",
      "9\n"
     ]
    }
   ],
   "source": [
    "for i in range(10):\n",
    "    if i == 5:\n",
    "        continue\n",
    "    print(i)"
   ]
  },
  {
   "cell_type": "markdown",
   "id": "602a557c",
   "metadata": {},
   "source": [
    "## While\n",
    "\n",
    "- while 문은 while문과 함께 정의한 **조건이 참이 동안 반복 루프를 수행**합니다."
   ]
  },
  {
   "cell_type": "code",
   "execution_count": 26,
   "id": "17ddd5d9",
   "metadata": {},
   "outputs": [
    {
     "name": "stdout",
     "output_type": "stream",
     "text": [
      "5\n",
      "4\n",
      "3\n",
      "2\n",
      "1\n"
     ]
    }
   ],
   "source": [
    "count = 5\n",
    "\n",
    "while count > 0:\n",
    "    print(count)\n",
    "    count -= 1"
   ]
  },
  {
   "cell_type": "markdown",
   "id": "b8c0d169",
   "metadata": {},
   "source": [
    "많은 사용하는 방법 중 하나는 `while True`로 지정하여 무한 루프를 생성후 , **탈출 구문 루프 내에서 설정**하는 것입니다."
   ]
  },
  {
   "cell_type": "code",
   "execution_count": 28,
   "id": "784b40a0",
   "metadata": {
    "scrolled": true
   },
   "outputs": [
    {
     "name": "stdout",
     "output_type": "stream",
     "text": [
      "1\n",
      "2\n",
      "3\n",
      "4\n",
      "5\n"
     ]
    }
   ],
   "source": [
    "count = 1\n",
    "\n",
    "while True:\n",
    "    print(count)\n",
    "    count += 1\n",
    "    # 탈출 구문(break)\n",
    "    if count > 5:\n",
    "        break"
   ]
  }
 ],
 "metadata": {
  "kernelspec": {
   "display_name": "Python 3",
   "language": "python",
   "name": "python3"
  },
  "language_info": {
   "codemirror_mode": {
    "name": "ipython",
    "version": 3
   },
   "file_extension": ".py",
   "mimetype": "text/x-python",
   "name": "python",
   "nbconvert_exporter": "python",
   "pygments_lexer": "ipython3",
   "version": "3.8.8"
  }
 },
 "nbformat": 4,
 "nbformat_minor": 5
}
