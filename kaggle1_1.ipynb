{
  "nbformat": 4,
  "nbformat_minor": 0,
  "metadata": {
    "colab": {
      "name": "kaggle1-1.ipynb",
      "private_outputs": true,
      "provenance": [],
      "authorship_tag": "ABX9TyOHpnwKboNxFTYB6ciFyLuY",
      "include_colab_link": true
    },
    "kernelspec": {
      "name": "python3",
      "display_name": "Python 3"
    },
    "language_info": {
      "name": "python"
    }
  },
  "cells": [
    {
      "cell_type": "markdown",
      "metadata": {
        "id": "view-in-github",
        "colab_type": "text"
      },
      "source": [
        "<a href=\"https://colab.research.google.com/github/kyk0325v/python-pratice/blob/main/kaggle1_1.ipynb\" target=\"_parent\"><img src=\"https://colab.research.google.com/assets/colab-badge.svg\" alt=\"Open In Colab\"/></a>"
      ]
    },
    {
      "cell_type": "markdown",
      "source": [
        "## Pandas 데이터 분석 모듈 불러오기\n",
        "\n",
        "pandas는 무료 오픈소스로 공개된 라이브러리입니다.\n",
        "**라이브러리**는 보통 다양한 기능들을 손쉽게 사용할 수 있도록 만들어진 하나의 목적을 가진 기능들의 집합체입니다.\n",
        "pandas는 **대표적인 데이터 분석 라이브러리** 입니다.\n"
      ],
      "metadata": {
        "id": "EhZEQqkqWgeD"
      }
    },
    {
      "cell_type": "code",
      "source": [
        "# tip 1. 모듈(=라이브러리리을 불러올 때는 import 라는 구문 다음에  라이브러리의 이름을 적습니다.\n",
        "# tip 2. as pd라고 하는 부분은 별칭을 지어주는 것입니다. pandas라는 라이브러리를 난 앞으로 'pd'라고 부를것 입니다.\n",
        "import pandas as pd"
      ],
      "metadata": {
        "id": "ZsNjOHdZXwy2"
      },
      "execution_count": null,
      "outputs": []
    },
    {
      "cell_type": "code",
      "source": [
        "pd.set_option('display.float_format', lambda x: '%.1f' % x)"
      ],
      "metadata": {
        "id": "rvu2uyX9YWB9"
      },
      "execution_count": null,
      "outputs": []
    },
    {
      "cell_type": "markdown",
      "source": [
        "## 데이터 불러오기\n",
        "\n",
        "데이터 분석의 첫 걸음인 모듈(=라이브러리)을 불러온다.\n",
        "\n",
        "CSV(Comma-sepertated values)는 데이터 분석에서 굉장히 많이 사용되는 파일 확장자입니다.\n",
        "\n",
        "말그대로 Comma(쉼표)로 분리된 데이터이며, excel포맷으로 저장하는 것보다 훨씬 빠르게 데이터를 불러올 수 있기 때문에 csv 포맷을 많이 사용하여 데이터를 저장하거나\n",
        "불러올 수 있습니다. 너무나 다행히도, pandas에서 csv파일로 저장하거나 불러올 수 있는 기능이 있습니다.\n",
        "\n",
        "아래에는 편의상 .csv로 된 파일을 다운로드 url을 통해 제공하고 있습니다.\n",
        "아래와 같이 다운로드 가능한 .csv 파일형식의 url을 알고 있다면, 아래와 같이 바로 읽어 들여올 수 있습니다."
      ],
      "metadata": {
        "id": "9etLVp7jYiwb"
      }
    },
    {
      "cell_type": "code",
      "source": [
        "data = pd.read_csv('http://bit.ly/ld-sample-idol', index_col='순위')"
      ],
      "metadata": {
        "id": "C71e2wGmaEhk"
      },
      "execution_count": null,
      "outputs": []
    },
    {
      "cell_type": "code",
      "source": [
        "data.head()"
      ],
      "metadata": {
        "id": "UY9IwgdyaN-5"
      },
      "execution_count": null,
      "outputs": []
    },
    {
      "cell_type": "markdown",
      "source": [
        "## 데이터 접근하기\n",
        "위의 표와 같은 형태를 pandas에서는 **dataframe**이라고 부릅니다.\n",
        "2차원 데이터로 표현되어 있고, 마치 엑셀처럼 생겼기 때문에 이질감이 없습니다.\n",
        "\n",
        "'순위','이름','그룹'...가로 방향을 우리는 **column(열)**이라고 합니다.\n",
        "그리고 세로 방향을 우리는 **row(행)**이라고 합니다."
      ],
      "metadata": {
        "id": "g73XaYzdaPz1"
      }
    },
    {
      "cell_type": "markdown",
      "source": [
        "<hr>dataframe은 반드시 row와 column으로 구성된 2차원(2d)으로 구성된 데이터 셋(데이터 묶음)입니다.\n",
        "\n",
        "너무 어렵게 생각할 필요 없이 그냥 엑셀을 떠올리시면 됩니다. (엑셀 = dataframe)"
      ],
      "metadata": {
        "id": "pUVmUjdpbCHi"
      }
    },
    {
      "cell_type": "markdown",
      "source": [
        "<hr>엑셀에서 행 전체 선택, 열 전체 선택, 혹은 모두 선택 가능하다.\n",
        "\n",
        "dataframe도 당연히 됩니다! 하지만 조금은 불편할 수 있다. 마우스로 선택은 불가능하기 때문이다."
      ],
      "metadata": {
        "id": "QQUxyVWZbRx5"
      }
    },
    {
      "cell_type": "markdown",
      "source": [
        "## column선택\n",
        "\n",
        "아래의 예시처럼 홑따옴표 \" 혹은 쌍따옴표 \"\" 안에 cloumn명을 넣어주면 된다."
      ],
      "metadata": {
        "id": "zF71ytMzbiQc"
      }
    },
    {
      "cell_type": "code",
      "source": [
        "data['이름']"
      ],
      "metadata": {
        "id": "z3NCufh6bsDX"
      },
      "execution_count": null,
      "outputs": []
    },
    {
      "cell_type": "markdown",
      "source": [
        "dot(점)을 찍고 불러올 수 있습니다만, 별로 추천드리고 싶은 방식은 아닙니다.\n",
        "가독성이 떨어지며, 트렌드에 맞춰가야 나중에 다른 사람의 코드를 봤을 때도 이질감이 없을 수 있습니다."
      ],
      "metadata": {
        "id": "-Cow0Oqebs9x"
      }
    },
    {
      "cell_type": "code",
      "source": [
        "data.이름"
      ],
      "metadata": {
        "id": "wPFMtwv1cHSn"
      },
      "execution_count": null,
      "outputs": []
    },
    {
      "cell_type": "markdown",
      "source": [
        "## row선택\n",
        "\n",
        "iloc이라는 함수를 통해 한마디로 row의 숫자를 지정하거나 범위로 지정할 수 도 있습니다."
      ],
      "metadata": {
        "id": "QAZgLBB2cIK2"
      }
    },
    {
      "cell_type": "code",
      "source": [
        "# 1개의 row 선택\n",
        "data.iloc[3]"
      ],
      "metadata": {
        "id": "-j8cLOMacQYQ"
      },
      "execution_count": null,
      "outputs": []
    },
    {
      "cell_type": "code",
      "source": [
        "# 범위의 row 선택\n",
        "data.iloc[3:7]"
      ],
      "metadata": {
        "id": "qP9ZtoVMcSv2"
      },
      "execution_count": null,
      "outputs": []
    },
    {
      "cell_type": "code",
      "source": [
        "# 띄엄띄엄 선택하여 가져오기\n",
        "select = [1,3,5,7,9]\n",
        "data.iloc[select]"
      ],
      "metadata": {
        "id": "n4SckZkLcXdP"
      },
      "execution_count": null,
      "outputs": []
    },
    {
      "cell_type": "code",
      "source": [
        "data.iloc[[1,3,5,7,9]]"
      ],
      "metadata": {
        "id": "ULNQQupdcoPe"
      },
      "execution_count": null,
      "outputs": []
    },
    {
      "cell_type": "markdown",
      "source": [
        "## column & row 선택"
      ],
      "metadata": {
        "id": "gaN31ypvcs5V"
      }
    },
    {
      "cell_type": "code",
      "source": [
        "# column 선택 후 iloc로 행 가져오기\n",
        "data['이름'].iloc[3]"
      ],
      "metadata": {
        "id": "uRTcpwsNcwMp"
      },
      "execution_count": null,
      "outputs": []
    },
    {
      "cell_type": "code",
      "source": [
        "# column 선택 후 범위로 가져오기\n",
        "data['이름'].iloc[3:7]"
      ],
      "metadata": {
        "id": "HC--NlI9c0hb"
      },
      "execution_count": null,
      "outputs": []
    },
    {
      "cell_type": "code",
      "source": [
        "data['이름'].iloc[[3,7,8,9]]"
      ],
      "metadata": {
        "id": "q37Qt3gNc55w"
      },
      "execution_count": null,
      "outputs": []
    },
    {
      "cell_type": "code",
      "source": [
        ""
      ],
      "metadata": {
        "id": "L2BD7Sclc9YP"
      },
      "execution_count": null,
      "outputs": []
    }
  ]
}