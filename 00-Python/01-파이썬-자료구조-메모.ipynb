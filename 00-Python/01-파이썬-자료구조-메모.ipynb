{
 "cells": [
  {
   "cell_type": "markdown",
   "id": "a8762f95",
   "metadata": {},
   "source": [
    "## 파이썬의 철학"
   ]
  },
  {
   "cell_type": "code",
   "execution_count": 1,
   "id": "fbb50341",
   "metadata": {},
   "outputs": [
    {
     "name": "stdout",
     "output_type": "stream",
     "text": [
      "The Zen of Python, by Tim Peters\n",
      "\n",
      "Beautiful is better than ugly.\n",
      "Explicit is better than implicit.\n",
      "Simple is better than complex.\n",
      "Complex is better than complicated.\n",
      "Flat is better than nested.\n",
      "Sparse is better than dense.\n",
      "Readability counts.\n",
      "Special cases aren't special enough to break the rules.\n",
      "Although practicality beats purity.\n",
      "Errors should never pass silently.\n",
      "Unless explicitly silenced.\n",
      "In the face of ambiguity, refuse the temptation to guess.\n",
      "There should be one-- and preferably only one --obvious way to do it.\n",
      "Although that way may not be obvious at first unless you're Dutch.\n",
      "Now is better than never.\n",
      "Although never is often better than *right* now.\n",
      "If the implementation is hard to explain, it's a bad idea.\n",
      "If the implementation is easy to explain, it may be a good idea.\n",
      "Namespaces are one honking great idea -- let's do more of those!\n"
     ]
    }
   ],
   "source": [
    "import this"
   ]
  },
  {
   "cell_type": "markdown",
   "id": "9b1d72e9",
   "metadata": {},
   "source": [
    "## print(출력)\n",
    "- 첫 단원에서는 **기본 print()의 출력**만 배웁니다.\n",
    "- 향후 실습 진행을 위한 정도만 배우고, 나중에 문자열 포맷팅에서 더 자세히 다룹니다."
   ]
  },
  {
   "cell_type": "code",
   "execution_count": 2,
   "id": "5df5a35d",
   "metadata": {},
   "outputs": [
    {
     "name": "stdout",
     "output_type": "stream",
     "text": [
      "오늘 파이썬 배우기 좋은 날이네!\n"
     ]
    }
   ],
   "source": [
    "print('오늘 파이썬 배우기 좋은 날이네!')"
   ]
  },
  {
   "cell_type": "code",
   "execution_count": 3,
   "id": "16c8da6c",
   "metadata": {},
   "outputs": [
    {
     "name": "stdout",
     "output_type": "stream",
     "text": [
      "오늘은 일요일\n"
     ]
    }
   ],
   "source": [
    "print(\"오늘은\", \"일요일\")"
   ]
  },
  {
   "cell_type": "code",
   "execution_count": 4,
   "id": "3aedf7e1",
   "metadata": {},
   "outputs": [
    {
     "name": "stdout",
     "output_type": "stream",
     "text": [
      "1 2 3 4\n"
     ]
    }
   ],
   "source": [
    "print(1, 2, 3, 4)"
   ]
  },
  {
   "cell_type": "markdown",
   "id": "ecfdd7bc",
   "metadata": {},
   "source": [
    "**Jupyter Notebook**셀에서 맨 끝에 위치한 변수, 문자열, 숫자등은 자동으로 출력합니다."
   ]
  },
  {
   "cell_type": "markdown",
   "id": "3b55e27a",
   "metadata": {},
   "source": [
    "3.14,'안녕',100 이렇게 3개의 값이 있지만, 항상 가장 마지막만 출력됩니다.'-"
   ]
  },
  {
   "cell_type": "code",
   "execution_count": 6,
   "id": "c834f891",
   "metadata": {},
   "outputs": [
    {
     "data": {
      "text/plain": [
       "100"
      ]
     },
     "execution_count": 6,
     "metadata": {},
     "output_type": "execute_result"
    }
   ],
   "source": [
    "3.14\n",
    "'안녕'\n",
    "100"
   ]
  },
  {
   "cell_type": "markdown",
   "id": "f1fdbd95",
   "metadata": {},
   "source": [
    "## 변수 (Variable)"
   ]
  },
  {
   "cell_type": "markdown",
   "id": "89d8542c",
   "metadata": {},
   "source": [
    "변수는 **데이터를 담는 그릇**이라고 생각하시면 됩니다."
   ]
  },
  {
   "cell_type": "markdown",
   "id": "c96e64b1",
   "metadata": {},
   "source": [
    "변수라는 그릇에 정수를 담을 수도 있고, 긴글을 담을 수도 있고, file을 담을 수도 있습니다.우리가 재사용하기 쉽게 **별명**을 지정해 줬다라고 쉽게 생각하시기 바랍니다."
   ]
  },
  {
   "cell_type": "markdown",
   "id": "88776b59",
   "metadata": {},
   "source": [
    "## 변수의 이름 규칙 (Rule)"
   ]
  },
  {
   "cell_type": "markdown",
   "id": "c0161602",
   "metadata": {},
   "source": [
    "다음의 **문자만 사용**할 수 있습니다>"
   ]
  },
  {
   "cell_type": "markdown",
   "id": "793e71a5",
   "metadata": {},
   "source": [
    "- 소문자(a~z)\n",
    "- 대문자(A~Z)\n",
    "- 숫자(0~9)\n",
    "- 한글도 가능\n",
    "- 특수기호는 언더바(_) 만 허용"
   ]
  },
  {
   "cell_type": "markdown",
   "id": "415e9b30",
   "metadata": {},
   "source": [
    "다음의 **규칙**을 가집니다."
   ]
  },
  {
   "cell_type": "markdown",
   "id": "62570d4a",
   "metadata": {},
   "source": [
    "- 대소 문자를 구분합니다.\n",
    "- 숫자는 맨 처음에 올 수 없습니다.\n",
    "- 예약어(keyword)는 사용할 수 없습니다. (def, if, del, import, reutrn 등등)"
   ]
  },
  {
   "cell_type": "markdown",
   "id": "f0bbf4ec",
   "metadata": {},
   "source": [
    "case 1. 알파벳 (가능)/대소문자 모두 가능/심지어 **한글도 가능하나 사용하는 것은 비추!**"
   ]
  },
  {
   "cell_type": "code",
   "execution_count": 8,
   "id": "bfb3c6e2",
   "metadata": {},
   "outputs": [],
   "source": [
    "a = 1"
   ]
  },
  {
   "cell_type": "code",
   "execution_count": 9,
   "id": "d3ccb4fa",
   "metadata": {},
   "outputs": [],
   "source": [
    "A = 1"
   ]
  },
  {
   "cell_type": "code",
   "execution_count": 10,
   "id": "61b38318",
   "metadata": {},
   "outputs": [],
   "source": [
    "변수 = 1"
   ]
  },
  {
   "cell_type": "code",
   "execution_count": 11,
   "id": "f4d45030",
   "metadata": {},
   "outputs": [
    {
     "data": {
      "text/plain": [
       "1"
      ]
     },
     "execution_count": 11,
     "metadata": {},
     "output_type": "execute_result"
    }
   ],
   "source": [
    "변수"
   ]
  },
  {
   "cell_type": "markdown",
   "id": "adc81e4c",
   "metadata": {},
   "source": [
    "case 2. 알파벳 + 숫자 (가능)"
   ]
  },
  {
   "cell_type": "code",
   "execution_count": 12,
   "id": "f77a0fbc",
   "metadata": {},
   "outputs": [],
   "source": [
    "a1 = 1"
   ]
  },
  {
   "cell_type": "markdown",
   "id": "15ad8841",
   "metadata": {},
   "source": [
    "case 3. 알파벳 + 언더바(_)(가능)"
   ]
  },
  {
   "cell_type": "code",
   "execution_count": 13,
   "id": "5bc5f25c",
   "metadata": {},
   "outputs": [],
   "source": [
    "a_ = 1"
   ]
  },
  {
   "cell_type": "markdown",
   "id": "dfb78713",
   "metadata": {},
   "source": [
    "case 4. 언더바(_) + 알파벳(가능)"
   ]
  },
  {
   "cell_type": "code",
   "execution_count": 14,
   "id": "51273c8b",
   "metadata": {},
   "outputs": [],
   "source": [
    "_a = 1"
   ]
  },
  {
   "cell_type": "markdown",
   "id": "e509d3aa",
   "metadata": {},
   "source": [
    "case 5. 숫자 + 알파벳 (불가능)"
   ]
  },
  {
   "cell_type": "code",
   "execution_count": 15,
   "id": "d6474929",
   "metadata": {},
   "outputs": [
    {
     "ename": "SyntaxError",
     "evalue": "invalid syntax (<ipython-input-15-0eb786336300>, line 1)",
     "output_type": "error",
     "traceback": [
      "\u001b[1;36m  File \u001b[1;32m\"<ipython-input-15-0eb786336300>\"\u001b[1;36m, line \u001b[1;32m1\u001b[0m\n\u001b[1;33m    1a =1\u001b[0m\n\u001b[1;37m     ^\u001b[0m\n\u001b[1;31mSyntaxError\u001b[0m\u001b[1;31m:\u001b[0m invalid syntax\n"
     ]
    }
   ],
   "source": [
    "1a =1 "
   ]
  },
  {
   "cell_type": "markdown",
   "id": "4cc9eb63",
   "metadata": {},
   "source": [
    "case 6. 특수문자(불가능)"
   ]
  },
  {
   "cell_type": "code",
   "execution_count": 16,
   "id": "558be84e",
   "metadata": {},
   "outputs": [
    {
     "ename": "SyntaxError",
     "evalue": "invalid syntax (<ipython-input-16-e21efa324dba>, line 1)",
     "output_type": "error",
     "traceback": [
      "\u001b[1;36m  File \u001b[1;32m\"<ipython-input-16-e21efa324dba>\"\u001b[1;36m, line \u001b[1;32m1\u001b[0m\n\u001b[1;33m    * = 7\u001b[0m\n\u001b[1;37m      ^\u001b[0m\n\u001b[1;31mSyntaxError\u001b[0m\u001b[1;31m:\u001b[0m invalid syntax\n"
     ]
    }
   ],
   "source": [
    "* = 7"
   ]
  },
  {
   "cell_type": "markdown",
   "id": "b10f8b36",
   "metadata": {},
   "source": [
    "case 7. 언더바를 제외한 특수문자 (불가능)"
   ]
  },
  {
   "cell_type": "code",
   "execution_count": 19,
   "id": "15da4756",
   "metadata": {},
   "outputs": [
    {
     "ename": "SyntaxError",
     "evalue": "invalid syntax (<ipython-input-19-7b68e0211941>, line 1)",
     "output_type": "error",
     "traceback": [
      "\u001b[1;36m  File \u001b[1;32m\"<ipython-input-19-7b68e0211941>\"\u001b[1;36m, line \u001b[1;32m1\u001b[0m\n\u001b[1;33m    a$ = 6\u001b[0m\n\u001b[1;37m     ^\u001b[0m\n\u001b[1;31mSyntaxError\u001b[0m\u001b[1;31m:\u001b[0m invalid syntax\n"
     ]
    }
   ],
   "source": [
    "a$ = 6"
   ]
  },
  {
   "cell_type": "markdown",
   "id": "5e3af822",
   "metadata": {},
   "source": [
    "case 8. 변수의 이름 사이의 공백 (불가능)"
   ]
  },
  {
   "cell_type": "code",
   "execution_count": 21,
   "id": "72f61b2c",
   "metadata": {},
   "outputs": [
    {
     "ename": "SyntaxError",
     "evalue": "invalid syntax (<ipython-input-21-38dc6d48d57b>, line 1)",
     "output_type": "error",
     "traceback": [
      "\u001b[1;36m  File \u001b[1;32m\"<ipython-input-21-38dc6d48d57b>\"\u001b[1;36m, line \u001b[1;32m1\u001b[0m\n\u001b[1;33m    a b = 6\u001b[0m\n\u001b[1;37m      ^\u001b[0m\n\u001b[1;31mSyntaxError\u001b[0m\u001b[1;31m:\u001b[0m invalid syntax\n"
     ]
    }
   ],
   "source": [
    "a b = 6"
   ]
  },
  {
   "cell_type": "markdown",
   "id": "4f7da510",
   "metadata": {},
   "source": [
    "주로 변수는 **소문자 알파벳으로 생성**하고, 필요시 **언더바**나 **숫자를 붙히는 방식**이 일반적입니다."
   ]
  },
  {
   "cell_type": "code",
   "execution_count": 22,
   "id": "59fc1189",
   "metadata": {},
   "outputs": [],
   "source": [
    "test = 10"
   ]
  },
  {
   "cell_type": "code",
   "execution_count": 23,
   "id": "5b469e6b",
   "metadata": {},
   "outputs": [],
   "source": [
    "test01 = 20"
   ]
  },
  {
   "cell_type": "code",
   "execution_count": 24,
   "id": "0ba8c072",
   "metadata": {},
   "outputs": [],
   "source": [
    "test_01 = 30"
   ]
  },
  {
   "cell_type": "markdown",
   "id": "c19b7598",
   "metadata": {},
   "source": [
    "## 데이터 타입 (Data Type)"
   ]
  },
  {
   "cell_type": "markdown",
   "id": "2d352d34",
   "metadata": {},
   "source": [
    "자료형태(자료형), 자료구조라고도 불리웁니다."
   ]
  },
  {
   "cell_type": "markdown",
   "id": "43d376df",
   "metadata": {},
   "source": [
    "**주요 데이터 타입(type)**\n",
    "1. `int` (정수): Interger(정수)의 약어이며, 정수를 나타내는 자료형입니다.\n",
    "2. `float` (실수): Floating point의 약어이며, 소수점이 있는 숫자를 나타내는 자료형입니다.\n",
    "3. `str`(문자열): 문자를 나타내는 자료형입니다. 작은 따옴표 혹은 큰 따옴표로 감싸져 있습니다.\n",
    "4. `bool`(참/거짓): 참 또는 거짓을 나타내는 자료형입니다.  True, False에서 T와 F는 반드시 대문자로 표기해야 합니다."
   ]
  },
  {
   "cell_type": "markdown",
   "id": "cbbbe2aa",
   "metadata": {},
   "source": [
    "### type()"
   ]
  },
  {
   "cell_type": "markdown",
   "id": "be6732d4",
   "metadata": {},
   "source": [
    "type 함수를 활용하여 데이터의 타입을 알아 볼 수 있습니다."
   ]
  },
  {
   "cell_type": "code",
   "execution_count": 25,
   "id": "e44dfc4d",
   "metadata": {},
   "outputs": [
    {
     "data": {
      "text/plain": [
       "int"
      ]
     },
     "execution_count": 25,
     "metadata": {},
     "output_type": "execute_result"
    }
   ],
   "source": [
    "type(1)"
   ]
  },
  {
   "cell_type": "code",
   "execution_count": 26,
   "id": "22da06fd",
   "metadata": {},
   "outputs": [
    {
     "data": {
      "text/plain": [
       "float"
      ]
     },
     "execution_count": 26,
     "metadata": {},
     "output_type": "execute_result"
    }
   ],
   "source": [
    "type(3.14)"
   ]
  },
  {
   "cell_type": "code",
   "execution_count": 27,
   "id": "12af7962",
   "metadata": {},
   "outputs": [
    {
     "data": {
      "text/plain": [
       "str"
      ]
     },
     "execution_count": 27,
     "metadata": {},
     "output_type": "execute_result"
    }
   ],
   "source": [
    "type(\"안녕\")"
   ]
  },
  {
   "cell_type": "code",
   "execution_count": 28,
   "id": "69cdf9db",
   "metadata": {},
   "outputs": [
    {
     "data": {
      "text/plain": [
       "bool"
      ]
     },
     "execution_count": 28,
     "metadata": {},
     "output_type": "execute_result"
    }
   ],
   "source": [
    "type(True)"
   ]
  },
  {
   "cell_type": "markdown",
   "id": "ab609cb2",
   "metadata": {},
   "source": [
    "## int (정수)"
   ]
  },
  {
   "cell_type": "markdown",
   "id": "6c590839",
   "metadata": {},
   "source": [
    "Integer(정수)의 약어이며, 정수를 나타내는 자료형입니다."
   ]
  },
  {
   "cell_type": "code",
   "execution_count": 29,
   "id": "fe4f552e",
   "metadata": {},
   "outputs": [],
   "source": [
    "a = 1"
   ]
  },
  {
   "cell_type": "code",
   "execution_count": 30,
   "id": "9ec082ca",
   "metadata": {},
   "outputs": [
    {
     "name": "stdout",
     "output_type": "stream",
     "text": [
      "1\n"
     ]
    }
   ],
   "source": [
    "print(a)"
   ]
  },
  {
   "cell_type": "markdown",
   "id": "3d126ed8",
   "metadata": {},
   "source": [
    "tyep 확인"
   ]
  },
  {
   "cell_type": "code",
   "execution_count": 31,
   "id": "13561d21",
   "metadata": {},
   "outputs": [
    {
     "data": {
      "text/plain": [
       "int"
      ]
     },
     "execution_count": 31,
     "metadata": {},
     "output_type": "execute_result"
    }
   ],
   "source": [
    "type(a)"
   ]
  },
  {
   "cell_type": "markdown",
   "id": "7c70d3df",
   "metadata": {},
   "source": [
    "## float (실수)"
   ]
  },
  {
   "cell_type": "markdown",
   "id": "dd04f989",
   "metadata": {},
   "source": [
    "Floating point의 약어이며, 소수점이 있는 숫자를 나타내는 자료형입니다."
   ]
  },
  {
   "cell_type": "code",
   "execution_count": 32,
   "id": "3c86c135",
   "metadata": {},
   "outputs": [],
   "source": [
    "a = 3.14"
   ]
  },
  {
   "cell_type": "code",
   "execution_count": 33,
   "id": "a20662ac",
   "metadata": {},
   "outputs": [
    {
     "name": "stdout",
     "output_type": "stream",
     "text": [
      "3.14\n"
     ]
    }
   ],
   "source": [
    "print(a)"
   ]
  },
  {
   "cell_type": "markdown",
   "id": "aab94a33",
   "metadata": {},
   "source": [
    "**type 확인**"
   ]
  },
  {
   "cell_type": "markdown",
   "id": "0d696afb",
   "metadata": {},
   "source": [
    "## str (문자열)\n",
    "문자를 나타내는 자료형입니다. 작은 따옴표 혹은 큰 따옴표로 감싸져 있습니다."
   ]
  },
  {
   "cell_type": "markdown",
   "id": "d1d33c7a",
   "metadata": {},
   "source": [
    "**작은 따옴표' '**사이에 문자를 입력한 경우"
   ]
  },
  {
   "cell_type": "code",
   "execution_count": 34,
   "id": "1b93444a",
   "metadata": {},
   "outputs": [],
   "source": [
    "word = '안녕하세요'"
   ]
  },
  {
   "cell_type": "code",
   "execution_count": 35,
   "id": "35aa8d88",
   "metadata": {},
   "outputs": [
    {
     "data": {
      "text/plain": [
       "'안녕하세요'"
      ]
     },
     "execution_count": 35,
     "metadata": {},
     "output_type": "execute_result"
    }
   ],
   "source": [
    "word"
   ]
  },
  {
   "cell_type": "markdown",
   "id": "83d10a5a",
   "metadata": {},
   "source": [
    "**type(확인)**"
   ]
  },
  {
   "cell_type": "code",
   "execution_count": 36,
   "id": "03003c3e",
   "metadata": {},
   "outputs": [
    {
     "data": {
      "text/plain": [
       "str"
      ]
     },
     "execution_count": 36,
     "metadata": {},
     "output_type": "execute_result"
    }
   ],
   "source": [
    "type(word)"
   ]
  },
  {
   "cell_type": "markdown",
   "id": "11551562",
   "metadata": {},
   "source": [
    "**큰 따옴표\" \"** 사이에 문자를 입력한 경우 "
   ]
  },
  {
   "cell_type": "code",
   "execution_count": 37,
   "id": "51357636",
   "metadata": {},
   "outputs": [],
   "source": [
    "word = \"안녕하세요\""
   ]
  },
  {
   "cell_type": "code",
   "execution_count": 38,
   "id": "f68d6f6d",
   "metadata": {},
   "outputs": [
    {
     "data": {
      "text/plain": [
       "'안녕하세요'"
      ]
     },
     "execution_count": 38,
     "metadata": {},
     "output_type": "execute_result"
    }
   ],
   "source": [
    "word"
   ]
  },
  {
   "cell_type": "markdown",
   "id": "5e1231e7",
   "metadata": {},
   "source": [
    "**여러 줄에 입력하고 싶을 때는 어떻게 해야하나요?**"
   ]
  },
  {
   "cell_type": "markdown",
   "id": "c59c284b",
   "metadata": {},
   "source": [
    "**작은 따옴표 ''' '''**3개를 연속해서 사용한 경우\n",
    "- 작은 따옴표나 큰 따옴표 3개를 연속해서 사용시 여러 줄에 나누어 문장을 입력할 수 있습니다."
   ]
  },
  {
   "cell_type": "code",
   "execution_count": 39,
   "id": "e518aba3",
   "metadata": {},
   "outputs": [],
   "source": [
    "word = '''안녕하세요\n",
    "반\n",
    "갑\n",
    "습\n",
    "니다.\n",
    "'''"
   ]
  },
  {
   "cell_type": "code",
   "execution_count": 40,
   "id": "d55427ff",
   "metadata": {},
   "outputs": [
    {
     "name": "stdout",
     "output_type": "stream",
     "text": [
      "안녕하세요\n",
      "반\n",
      "갑\n",
      "습\n",
      "니다.\n",
      "\n"
     ]
    }
   ],
   "source": [
    "print(word)"
   ]
  },
  {
   "cell_type": "markdown",
   "id": "67cae0b9",
   "metadata": {},
   "source": [
    "**큰 따옴표 \"\"\" \"\"\"**3개를 연속해서 사용한 경우"
   ]
  },
  {
   "cell_type": "code",
   "execution_count": 41,
   "id": "26adfc88",
   "metadata": {},
   "outputs": [],
   "source": [
    "word = \"\"\"안녕하세요\n",
    "반\n",
    "갑\n",
    "습\n",
    "니다.\n",
    "\"\"\""
   ]
  },
  {
   "cell_type": "code",
   "execution_count": 42,
   "id": "119c1478",
   "metadata": {},
   "outputs": [
    {
     "name": "stdout",
     "output_type": "stream",
     "text": [
      "안녕하세요\n",
      "반\n",
      "갑\n",
      "습\n",
      "니다.\n",
      "\n"
     ]
    }
   ],
   "source": [
    "print(word)"
   ]
  },
  {
   "cell_type": "markdown",
   "id": "6c78595b",
   "metadata": {},
   "source": [
    "**type 확인**"
   ]
  },
  {
   "cell_type": "code",
   "execution_count": 43,
   "id": "bd846f4a",
   "metadata": {},
   "outputs": [
    {
     "data": {
      "text/plain": [
       "str"
      ]
     },
     "execution_count": 43,
     "metadata": {},
     "output_type": "execute_result"
    }
   ],
   "source": [
    "type(word)"
   ]
  },
  {
   "cell_type": "markdown",
   "id": "708d40a9",
   "metadata": {},
   "source": [
    "##  bool (참/거짓)\n",
    "\n",
    "참 또는 거짓을 나타내는 자료형입니다. True, False에서 T와 F는 **반드시 대문자로 표기**해야 합니다."
   ]
  },
  {
   "cell_type": "code",
   "execution_count": 44,
   "id": "6c941bbb",
   "metadata": {},
   "outputs": [],
   "source": [
    "a = False"
   ]
  },
  {
   "cell_type": "code",
   "execution_count": 45,
   "id": "9ec84854",
   "metadata": {},
   "outputs": [
    {
     "name": "stdout",
     "output_type": "stream",
     "text": [
      "False\n"
     ]
    }
   ],
   "source": [
    "print(a)"
   ]
  },
  {
   "cell_type": "markdown",
   "id": "b4af3468",
   "metadata": {},
   "source": [
    "**type 확인**"
   ]
  },
  {
   "cell_type": "code",
   "execution_count": 46,
   "id": "5acacc64",
   "metadata": {},
   "outputs": [
    {
     "data": {
      "text/plain": [
       "bool"
      ]
     },
     "execution_count": 46,
     "metadata": {},
     "output_type": "execute_result"
    }
   ],
   "source": [
    "type(False)"
   ]
  },
  {
   "cell_type": "markdown",
   "id": "cbb5c22b",
   "metadata": {},
   "source": [
    "- 정수 1은 `True`\n",
    "- 정수 0은 `False`"
   ]
  },
  {
   "cell_type": "markdown",
   "id": "b2b113fa",
   "metadata": {},
   "source": [
    "비교 연산자는 추후에 배우게 됩니다.\n",
    "\n",
    "파이썬에서는 **\"같다\"** 비교를 **\"==\"** 기호로 합니다."
   ]
  },
  {
   "cell_type": "code",
   "execution_count": 47,
   "id": "403b82b0",
   "metadata": {},
   "outputs": [
    {
     "data": {
      "text/plain": [
       "True"
      ]
     },
     "execution_count": 47,
     "metadata": {},
     "output_type": "execute_result"
    }
   ],
   "source": [
    "1 == True"
   ]
  },
  {
   "cell_type": "code",
   "execution_count": 48,
   "id": "394c08e6",
   "metadata": {},
   "outputs": [
    {
     "data": {
      "text/plain": [
       "True"
      ]
     },
     "execution_count": 48,
     "metadata": {},
     "output_type": "execute_result"
    }
   ],
   "source": [
    "0 == False"
   ]
  },
  {
   "cell_type": "markdown",
   "id": "fb5e0777",
   "metadata": {},
   "source": [
    "**type 확인**"
   ]
  },
  {
   "cell_type": "code",
   "execution_count": 49,
   "id": "ea60d7ba",
   "metadata": {},
   "outputs": [
    {
     "data": {
      "text/plain": [
       "bool"
      ]
     },
     "execution_count": 49,
     "metadata": {},
     "output_type": "execute_result"
    }
   ],
   "source": [
    "type(True)"
   ]
  },
  {
   "cell_type": "markdown",
   "id": "f48e7098",
   "metadata": {},
   "source": [
    "## 아무것도 아닌 None 타입"
   ]
  },
  {
   "cell_type": "markdown",
   "id": "772f1646",
   "metadata": {},
   "source": [
    "말그 대로 아무 것도 아닌 흔히 Null 값을 넣는다고도 합니다.\n",
    "\n",
    "사전상 의미는\n",
    "\n",
    "- **Null: Nullify (무효화하다)**라는 뜻을 가지고 있다네요~\n",
    "    \n",
    "python에서는 **None** 입니다.!"
   ]
  },
  {
   "cell_type": "code",
   "execution_count": 50,
   "id": "717b955f",
   "metadata": {},
   "outputs": [],
   "source": [
    "a = None"
   ]
  },
  {
   "cell_type": "markdown",
   "id": "450332d0",
   "metadata": {},
   "source": [
    "**type 확인**"
   ]
  },
  {
   "cell_type": "code",
   "execution_count": 51,
   "id": "c322d72a",
   "metadata": {},
   "outputs": [
    {
     "data": {
      "text/plain": [
       "NoneType"
      ]
     },
     "execution_count": 51,
     "metadata": {},
     "output_type": "execute_result"
    }
   ],
   "source": [
    "type(a)"
   ]
  },
  {
   "cell_type": "code",
   "execution_count": 52,
   "id": "11e1ac14",
   "metadata": {},
   "outputs": [
    {
     "name": "stdout",
     "output_type": "stream",
     "text": [
      "None\n"
     ]
    }
   ],
   "source": [
    "print(a)"
   ]
  },
  {
   "cell_type": "markdown",
   "id": "3ffbaff8",
   "metadata": {},
   "source": [
    "## 타입 변환"
   ]
  },
  {
   "cell_type": "markdown",
   "id": "0d6f0c9e",
   "metadata": {},
   "source": [
    "`int`를 `float`로 변환한 경우"
   ]
  },
  {
   "cell_type": "code",
   "execution_count": 54,
   "id": "fef2924a",
   "metadata": {},
   "outputs": [],
   "source": [
    "a = 1"
   ]
  },
  {
   "cell_type": "code",
   "execution_count": 55,
   "id": "f7f96481",
   "metadata": {},
   "outputs": [
    {
     "data": {
      "text/plain": [
       "int"
      ]
     },
     "execution_count": 55,
     "metadata": {},
     "output_type": "execute_result"
    }
   ],
   "source": [
    "type(a)"
   ]
  },
  {
   "cell_type": "code",
   "execution_count": 56,
   "id": "2c527697",
   "metadata": {},
   "outputs": [
    {
     "data": {
      "text/plain": [
       "1.0"
      ]
     },
     "execution_count": 56,
     "metadata": {},
     "output_type": "execute_result"
    }
   ],
   "source": [
    "float(a)"
   ]
  },
  {
   "cell_type": "markdown",
   "id": "e96360db",
   "metadata": {},
   "source": [
    "`float`를 `int`로 변환한 경우\n",
    "\n",
    "- float를 int로 변환시 반올림이 아닌 값이 버림되어 집니다. (소수점 이하 절삭)"
   ]
  },
  {
   "cell_type": "code",
   "execution_count": 57,
   "id": "dd91efb5",
   "metadata": {},
   "outputs": [],
   "source": [
    "b = 3.99"
   ]
  },
  {
   "cell_type": "code",
   "execution_count": 58,
   "id": "39a26d93",
   "metadata": {},
   "outputs": [
    {
     "data": {
      "text/plain": [
       "3"
      ]
     },
     "execution_count": 58,
     "metadata": {},
     "output_type": "execute_result"
    }
   ],
   "source": [
    "int(b)"
   ]
  },
  {
   "cell_type": "markdown",
   "id": "1ef24bce",
   "metadata": {},
   "source": [
    "`bool`을 `int`로 변환한 경우"
   ]
  },
  {
   "cell_type": "code",
   "execution_count": 59,
   "id": "1b5a5e21",
   "metadata": {},
   "outputs": [],
   "source": [
    "c = True"
   ]
  },
  {
   "cell_type": "code",
   "execution_count": 60,
   "id": "60b6f5a6",
   "metadata": {},
   "outputs": [
    {
     "data": {
      "text/plain": [
       "1"
      ]
     },
     "execution_count": 60,
     "metadata": {},
     "output_type": "execute_result"
    }
   ],
   "source": [
    "int(c)"
   ]
  },
  {
   "cell_type": "code",
   "execution_count": 61,
   "id": "ebfe9903",
   "metadata": {},
   "outputs": [],
   "source": [
    "d = False"
   ]
  },
  {
   "cell_type": "code",
   "execution_count": 62,
   "id": "b8dea2ab",
   "metadata": {},
   "outputs": [
    {
     "data": {
      "text/plain": [
       "0"
      ]
     },
     "execution_count": 62,
     "metadata": {},
     "output_type": "execute_result"
    }
   ],
   "source": [
    "int(d)"
   ]
  },
  {
   "cell_type": "markdown",
   "id": "31aac968",
   "metadata": {},
   "source": [
    "`bool`을 `float`로 변환한 경우"
   ]
  },
  {
   "cell_type": "code",
   "execution_count": 63,
   "id": "3cad6377",
   "metadata": {},
   "outputs": [
    {
     "data": {
      "text/plain": [
       "1.0"
      ]
     },
     "execution_count": 63,
     "metadata": {},
     "output_type": "execute_result"
    }
   ],
   "source": [
    "float(True)"
   ]
  },
  {
   "cell_type": "markdown",
   "id": "1fa470a3",
   "metadata": {},
   "source": [
    "파이썬에서 **0이 아닌 값은 모두 True로 간주**한다."
   ]
  },
  {
   "cell_type": "code",
   "execution_count": 64,
   "id": "d00c34fe",
   "metadata": {},
   "outputs": [
    {
     "data": {
      "text/plain": [
       "True"
      ]
     },
     "execution_count": 64,
     "metadata": {},
     "output_type": "execute_result"
    }
   ],
   "source": [
    "bool(1)"
   ]
  },
  {
   "cell_type": "code",
   "execution_count": 65,
   "id": "d1b50506",
   "metadata": {},
   "outputs": [
    {
     "data": {
      "text/plain": [
       "True"
      ]
     },
     "execution_count": 65,
     "metadata": {},
     "output_type": "execute_result"
    }
   ],
   "source": [
    "bool(-10)"
   ]
  },
  {
   "cell_type": "code",
   "execution_count": 66,
   "id": "7b3f9df2",
   "metadata": {},
   "outputs": [
    {
     "data": {
      "text/plain": [
       "True"
      ]
     },
     "execution_count": 66,
     "metadata": {},
     "output_type": "execute_result"
    }
   ],
   "source": [
    "bool(3.14)"
   ]
  },
  {
   "cell_type": "code",
   "execution_count": 67,
   "id": "1f8aae69",
   "metadata": {},
   "outputs": [
    {
     "data": {
      "text/plain": [
       "False"
      ]
     },
     "execution_count": 67,
     "metadata": {},
     "output_type": "execute_result"
    }
   ],
   "source": [
    "bool(0)"
   ]
  },
  {
   "cell_type": "code",
   "execution_count": 69,
   "id": "72be3d39",
   "metadata": {},
   "outputs": [
    {
     "data": {
      "text/plain": [
       "False"
      ]
     },
     "execution_count": 69,
     "metadata": {},
     "output_type": "execute_result"
    }
   ],
   "source": [
    "bool(0.0)"
   ]
  }
 ],
 "metadata": {
  "kernelspec": {
   "display_name": "Python 3",
   "language": "python",
   "name": "python3"
  },
  "language_info": {
   "codemirror_mode": {
    "name": "ipython",
    "version": 3
   },
   "file_extension": ".py",
   "mimetype": "text/x-python",
   "name": "python",
   "nbconvert_exporter": "python",
   "pygments_lexer": "ipython3",
   "version": "3.8.8"
  }
 },
 "nbformat": 4,
 "nbformat_minor": 5
}
