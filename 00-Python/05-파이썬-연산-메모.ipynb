{
 "cells": [
  {
   "cell_type": "markdown",
   "id": "1b60ce00",
   "metadata": {},
   "source": [
    "## 연산"
   ]
  },
  {
   "cell_type": "markdown",
   "id": "b4b62cf9",
   "metadata": {},
   "source": [
    "Excel에서도 **sum이나 +,-**기로홀 셀과 셀 단위, 열과 열단위, 행과 행단위 연산이 가능합니다.\n",
    "\n",
    "python에서도 마찬가지로 사칙 연산외 다양한 통계 연산 기능을 기본으로 제공해 줍니다. (**사용법도 물론 매우 쉽습니다^^**)"
   ]
  },
  {
   "cell_type": "markdown",
   "id": "47a045a8",
   "metadata": {},
   "source": [
    "##  사칙연산 (+, -, /, *)\n",
    "\n",
    "- 더하기 (+)\n",
    "- 빼기 (-)\n",
    "- 나누기 (/)\n",
    "- 곱하기 (*)"
   ]
  },
  {
   "cell_type": "code",
   "execution_count": 1,
   "id": "43e45f9b",
   "metadata": {},
   "outputs": [],
   "source": [
    "a = 10\n",
    "b = 3"
   ]
  },
  {
   "cell_type": "markdown",
   "id": "1d8ed9de",
   "metadata": {},
   "source": [
    "###  + : 덧셈"
   ]
  },
  {
   "cell_type": "code",
   "execution_count": 2,
   "id": "077406c8",
   "metadata": {},
   "outputs": [
    {
     "data": {
      "text/plain": [
       "13"
      ]
     },
     "execution_count": 2,
     "metadata": {},
     "output_type": "execute_result"
    }
   ],
   "source": [
    "a + b"
   ]
  },
  {
   "cell_type": "code",
   "execution_count": 3,
   "id": "8c68a6ed",
   "metadata": {},
   "outputs": [
    {
     "data": {
      "text/plain": [
       "244"
      ]
     },
     "execution_count": 3,
     "metadata": {},
     "output_type": "execute_result"
    }
   ],
   "source": [
    "10 + 234"
   ]
  },
  {
   "cell_type": "markdown",
   "id": "8bb17ee0",
   "metadata": {},
   "source": [
    "**+=** 기호는 + (덧셈)한 뒤 자기 자신의 변수에 재 할당합니다.\n",
    "\n",
    "(예시) `a += 3` 은 `a = a + 3`과 같습니다."
   ]
  },
  {
   "cell_type": "code",
   "execution_count": 4,
   "id": "caee9fdf",
   "metadata": {},
   "outputs": [
    {
     "name": "stdout",
     "output_type": "stream",
     "text": [
      "15\n"
     ]
    }
   ],
   "source": [
    "s = 10\n",
    "s += 5\n",
    "print(s)"
   ]
  },
  {
   "cell_type": "markdown",
   "id": "1c0b8842",
   "metadata": {},
   "source": [
    "### - : 뺄셈"
   ]
  },
  {
   "cell_type": "code",
   "execution_count": 5,
   "id": "0bb50329",
   "metadata": {},
   "outputs": [
    {
     "data": {
      "text/plain": [
       "7"
      ]
     },
     "execution_count": 5,
     "metadata": {},
     "output_type": "execute_result"
    }
   ],
   "source": [
    "a - b"
   ]
  },
  {
   "cell_type": "code",
   "execution_count": 6,
   "id": "86c0a48e",
   "metadata": {},
   "outputs": [
    {
     "data": {
      "text/plain": [
       "1"
      ]
     },
     "execution_count": 6,
     "metadata": {},
     "output_type": "execute_result"
    }
   ],
   "source": [
    "10 - 9"
   ]
  },
  {
   "cell_type": "code",
   "execution_count": 8,
   "id": "1ed733cd",
   "metadata": {},
   "outputs": [
    {
     "name": "stdout",
     "output_type": "stream",
     "text": [
      "7\n"
     ]
    }
   ],
   "source": [
    "s = 10\n",
    "s -= 3\n",
    "print(s)"
   ]
  },
  {
   "cell_type": "markdown",
   "id": "7f1ed2cd",
   "metadata": {},
   "source": [
    "### / : 나눗셈"
   ]
  },
  {
   "cell_type": "code",
   "execution_count": 9,
   "id": "641f3e22",
   "metadata": {},
   "outputs": [
    {
     "data": {
      "text/plain": [
       "3.3333333333333335"
      ]
     },
     "execution_count": 9,
     "metadata": {},
     "output_type": "execute_result"
    }
   ],
   "source": [
    "a / b"
   ]
  },
  {
   "cell_type": "code",
   "execution_count": 10,
   "id": "471f247d",
   "metadata": {},
   "outputs": [
    {
     "data": {
      "text/plain": [
       "1.5285714285714285"
      ]
     },
     "execution_count": 10,
     "metadata": {},
     "output_type": "execute_result"
    }
   ],
   "source": [
    "10.7 / 7"
   ]
  },
  {
   "cell_type": "code",
   "execution_count": 12,
   "id": "6109beff",
   "metadata": {},
   "outputs": [
    {
     "name": "stdout",
     "output_type": "stream",
     "text": [
      "5.0\n"
     ]
    }
   ],
   "source": [
    "s = 10\n",
    "s /= 2\n",
    "print(s)"
   ]
  },
  {
   "cell_type": "markdown",
   "id": "35565fee",
   "metadata": {},
   "source": [
    "### * : 곱셈"
   ]
  },
  {
   "cell_type": "code",
   "execution_count": 13,
   "id": "f66186c6",
   "metadata": {},
   "outputs": [
    {
     "data": {
      "text/plain": [
       "30"
      ]
     },
     "execution_count": 13,
     "metadata": {},
     "output_type": "execute_result"
    }
   ],
   "source": [
    "a * b"
   ]
  },
  {
   "cell_type": "code",
   "execution_count": 14,
   "id": "c8bc7e1e",
   "metadata": {},
   "outputs": [
    {
     "data": {
      "text/plain": [
       "100"
      ]
     },
     "execution_count": 14,
     "metadata": {},
     "output_type": "execute_result"
    }
   ],
   "source": [
    "a * 10"
   ]
  },
  {
   "cell_type": "code",
   "execution_count": 15,
   "id": "2a091331",
   "metadata": {},
   "outputs": [
    {
     "name": "stdout",
     "output_type": "stream",
     "text": [
      "60\n"
     ]
    }
   ],
   "source": [
    "s = 20\n",
    "s *= 3\n",
    "print(s)"
   ]
  },
  {
   "cell_type": "markdown",
   "id": "c0cef467",
   "metadata": {},
   "source": [
    "## 조금 생소할 수 있는 연산자 (%, //, **)\n",
    "\n",
    "- `//`: **floor division** 연산자입니다. 나눗셈에 대한 **몫**을 정수형으로 구함\n",
    "- `%`: **modulus** 연산자입니다. 몫을 나눈 **나머지**를 구함\n",
    "- `**`: 제곱 연산"
   ]
  },
  {
   "cell_type": "markdown",
   "id": "1b123890",
   "metadata": {},
   "source": [
    "### // : floor Division\n",
    "\n",
    "- 나눗셈에 대한 **몫**을 정수형으로 구함"
   ]
  },
  {
   "cell_type": "code",
   "execution_count": 16,
   "id": "11df6aa0",
   "metadata": {},
   "outputs": [],
   "source": [
    "a = 10\n",
    "b = 3"
   ]
  },
  {
   "cell_type": "markdown",
   "id": "3024affe",
   "metadata": {},
   "source": [
    "일반 나눗셈 연산 결과"
   ]
  },
  {
   "cell_type": "code",
   "execution_count": 17,
   "id": "32dba3a6",
   "metadata": {},
   "outputs": [
    {
     "data": {
      "text/plain": [
       "3.3333333333333335"
      ]
     },
     "execution_count": 17,
     "metadata": {},
     "output_type": "execute_result"
    }
   ],
   "source": [
    "a / b"
   ]
  },
  {
   "cell_type": "code",
   "execution_count": 18,
   "id": "292b8038",
   "metadata": {},
   "outputs": [
    {
     "data": {
      "text/plain": [
       "3"
      ]
     },
     "execution_count": 18,
     "metadata": {},
     "output_type": "execute_result"
    }
   ],
   "source": [
    "a // b"
   ]
  },
  {
   "cell_type": "markdown",
   "id": "1caea87b",
   "metadata": {},
   "source": [
    "### % : modulus\n",
    "\n",
    "- 몫을 나눈 **나머지**를 구합니다."
   ]
  },
  {
   "cell_type": "code",
   "execution_count": 19,
   "id": "c88ad584",
   "metadata": {},
   "outputs": [],
   "source": [
    "a = 10\n",
    "b = 3"
   ]
  },
  {
   "cell_type": "code",
   "execution_count": 20,
   "id": "af069bbe",
   "metadata": {},
   "outputs": [
    {
     "data": {
      "text/plain": [
       "1"
      ]
     },
     "execution_count": 20,
     "metadata": {},
     "output_type": "execute_result"
    }
   ],
   "source": [
    "a % b"
   ]
  },
  {
   "cell_type": "markdown",
   "id": "c7c70442",
   "metadata": {},
   "source": [
    "### ** : 제곱 연산\n",
    "\n",
    "- 제곱 연산을 수행합니다."
   ]
  },
  {
   "cell_type": "code",
   "execution_count": 21,
   "id": "b0e9dbef",
   "metadata": {},
   "outputs": [],
   "source": [
    "a = 10\n",
    "b = 3"
   ]
  },
  {
   "cell_type": "code",
   "execution_count": 22,
   "id": "e02bded2",
   "metadata": {},
   "outputs": [
    {
     "data": {
      "text/plain": [
       "1000"
      ]
     },
     "execution_count": 22,
     "metadata": {},
     "output_type": "execute_result"
    }
   ],
   "source": [
    "a ** b"
   ]
  },
  {
   "cell_type": "code",
   "execution_count": 23,
   "id": "15a5e748",
   "metadata": {},
   "outputs": [
    {
     "data": {
      "text/plain": [
       "1024"
      ]
     },
     "execution_count": 23,
     "metadata": {},
     "output_type": "execute_result"
    }
   ],
   "source": [
    "2 ** 10"
   ]
  },
  {
   "cell_type": "markdown",
   "id": "019f2f22",
   "metadata": {},
   "source": [
    "### 괄호 ()의 활용\n",
    "\n",
    "- 수학 연산할 때와 마찬가지로,,/을 먼저 계산하며, *괄호 ()를 활용 **하여 먼저 연산할 부분을 지정할 수 있습니다."
   ]
  },
  {
   "cell_type": "code",
   "execution_count": 24,
   "id": "21f4593b",
   "metadata": {},
   "outputs": [
    {
     "data": {
      "text/plain": [
       "20"
      ]
     },
     "execution_count": 24,
     "metadata": {},
     "output_type": "execute_result"
    }
   ],
   "source": [
    "10 + 2 * 5"
   ]
  },
  {
   "cell_type": "code",
   "execution_count": 25,
   "id": "87136bae",
   "metadata": {},
   "outputs": [
    {
     "data": {
      "text/plain": [
       "60"
      ]
     },
     "execution_count": 25,
     "metadata": {},
     "output_type": "execute_result"
    }
   ],
   "source": [
    "(10 + 2) * 5"
   ]
  },
  {
   "cell_type": "markdown",
   "id": "96e83a2f",
   "metadata": {},
   "source": [
    "다음과 같은 경우는 어떻게 될까요?"
   ]
  },
  {
   "cell_type": "code",
   "execution_count": 26,
   "id": "8ca70ea5",
   "metadata": {},
   "outputs": [],
   "source": [
    "a = '10'\n",
    "b = '20'"
   ]
  },
  {
   "cell_type": "code",
   "execution_count": 27,
   "id": "64d236ff",
   "metadata": {},
   "outputs": [
    {
     "data": {
      "text/plain": [
       "'1020'"
      ]
     },
     "execution_count": 27,
     "metadata": {},
     "output_type": "execute_result"
    }
   ],
   "source": [
    "a + b"
   ]
  },
  {
   "cell_type": "markdown",
   "id": "414ffdbf",
   "metadata": {},
   "source": [
    "연산시 타입(type)이 다르면 Error가 발생합니다."
   ]
  },
  {
   "cell_type": "code",
   "execution_count": 28,
   "id": "93b3efee",
   "metadata": {},
   "outputs": [],
   "source": [
    "a = '10'\n",
    "b = 20"
   ]
  },
  {
   "cell_type": "code",
   "execution_count": 29,
   "id": "6ecf85f4",
   "metadata": {},
   "outputs": [
    {
     "ename": "TypeError",
     "evalue": "can only concatenate str (not \"int\") to str",
     "output_type": "error",
     "traceback": [
      "\u001b[1;31m---------------------------------------------------------------------------\u001b[0m",
      "\u001b[1;31mTypeError\u001b[0m                                 Traceback (most recent call last)",
      "\u001b[1;32m<ipython-input-29-bd58363a63fc>\u001b[0m in \u001b[0;36m<module>\u001b[1;34m\u001b[0m\n\u001b[1;32m----> 1\u001b[1;33m \u001b[0ma\u001b[0m \u001b[1;33m+\u001b[0m \u001b[0mb\u001b[0m\u001b[1;33m\u001b[0m\u001b[1;33m\u001b[0m\u001b[0m\n\u001b[0m",
      "\u001b[1;31mTypeError\u001b[0m: can only concatenate str (not \"int\") to str"
     ]
    }
   ],
   "source": [
    "a + b"
   ]
  }
 ],
 "metadata": {
  "kernelspec": {
   "display_name": "Python 3",
   "language": "python",
   "name": "python3"
  },
  "language_info": {
   "codemirror_mode": {
    "name": "ipython",
    "version": 3
   },
   "file_extension": ".py",
   "mimetype": "text/x-python",
   "name": "python",
   "nbconvert_exporter": "python",
   "pygments_lexer": "ipython3",
   "version": "3.8.8"
  }
 },
 "nbformat": 4,
 "nbformat_minor": 5
}
