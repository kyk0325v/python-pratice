{
 "cells": [
  {
   "cell_type": "markdown",
   "id": "09953939",
   "metadata": {},
   "source": [
    "## 문자열"
   ]
  },
  {
   "cell_type": "markdown",
   "id": "6568c526",
   "metadata": {},
   "source": [
    "데이터 분석에 있어서 문자열(텍스트) 데이터의 중요성\n",
    "\n",
    "- 자연어처리 데이터는 대부분이 텍스트 데이터로 이루어져 있습니다.\n",
    "- 우리가 흔히 접하는 Excel 혹은 Table 데이터안에도 수많은 텍스트 데이터가 존재합니다.\n",
    "- 게다가 우리나라는 영어와 더불어 **한국**까지 추가로 처리 할 수 있어야 합니다!!"
   ]
  },
  {
   "cell_type": "markdown",
   "id": "ddbdd666",
   "metadata": {},
   "source": [
    "### 특성\n",
    "\n",
    "- 문자열 역시 리스트(list), 튜플(tuple)과 마찬가지로 sequence 형 자료구조를 가집니다.\n",
    "- 문자열은 불변(immutable) 객체입니다."
   ]
  },
  {
   "cell_type": "markdown",
   "id": "8b0a20e4",
   "metadata": {},
   "source": [
    "### 문자열의 생성\n",
    "\n",
    "파이썬의 문자열은 자은 따옴표(**'**) 나 큰 따옴표(**\"**) 모두 구분없이 사용하여 문자열을 생성할 수 있습니다."
   ]
  },
  {
   "cell_type": "markdown",
   "id": "6f334a6b",
   "metadata": {},
   "source": [
    "작은 따옴표(**'**) 사용"
   ]
  },
  {
   "cell_type": "code",
   "execution_count": 1,
   "id": "ae2f439e",
   "metadata": {},
   "outputs": [
    {
     "data": {
      "text/plain": [
       "'안녕하세요? 반갑습니다.'"
      ]
     },
     "execution_count": 1,
     "metadata": {},
     "output_type": "execute_result"
    }
   ],
   "source": [
    "'안녕하세요? 반갑습니다.'"
   ]
  },
  {
   "cell_type": "code",
   "execution_count": 3,
   "id": "ded045ec",
   "metadata": {},
   "outputs": [
    {
     "data": {
      "text/plain": [
       "'안녕하세요? 반갑습니다.'"
      ]
     },
     "execution_count": 3,
     "metadata": {},
     "output_type": "execute_result"
    }
   ],
   "source": [
    "\"안녕하세요? 반갑습니다.\""
   ]
  },
  {
   "cell_type": "markdown",
   "id": "b41676dd",
   "metadata": {},
   "source": [
    "작은 따옴표 3개 혹은 큰 따옴표 3개를 써서 **여러 줄의 문자열을 생성**할 수 있습니다."
   ]
  },
  {
   "cell_type": "code",
   "execution_count": 5,
   "id": "97ee121f",
   "metadata": {},
   "outputs": [
    {
     "name": "stdout",
     "output_type": "stream",
     "text": [
      "안녕하세요?\n",
      "반가워요\n",
      "내이름은\n",
      "파이썬 입니다.\n"
     ]
    }
   ],
   "source": [
    "sample = '''안녕하세요?\n",
    "반가워요\n",
    "내이름은\n",
    "파이썬 입니다.'''\n",
    "\n",
    "print(sample)"
   ]
  },
  {
   "cell_type": "code",
   "execution_count": 6,
   "id": "355d7dfa",
   "metadata": {},
   "outputs": [
    {
     "name": "stdout",
     "output_type": "stream",
     "text": [
      "안녕하세요?\n",
      "반가워\n",
      "내이름은\n",
      "파이썬 입니다.\n",
      "\n",
      "웰컴!\n",
      "\n"
     ]
    }
   ],
   "source": [
    "sample = \"\"\"안녕하세요?\n",
    "반가워\n",
    "내이름은\n",
    "파이썬 입니다.\n",
    "\n",
    "웰컴!\n",
    "\"\"\"\n",
    "\n",
    "print(sample)"
   ]
  },
  {
   "cell_type": "markdown",
   "id": "534878e2",
   "metadata": {},
   "source": [
    "### 문자열 출력 (포맷팅)"
   ]
  },
  {
   "cell_type": "markdown",
   "id": "c388bab9",
   "metadata": {},
   "source": [
    "### print() : 출력"
   ]
  },
  {
   "cell_type": "code",
   "execution_count": 8,
   "id": "63f64f60",
   "metadata": {},
   "outputs": [
    {
     "name": "stdout",
     "output_type": "stream",
     "text": [
      "헬로우 파이썬\n"
     ]
    }
   ],
   "source": [
    "print('헬로우 파이썬')"
   ]
  },
  {
   "cell_type": "code",
   "execution_count": 9,
   "id": "e7d1cced",
   "metadata": {},
   "outputs": [
    {
     "name": "stdout",
     "output_type": "stream",
     "text": [
      "문자열 첫째 그리고, 둘째\n"
     ]
    }
   ],
   "source": [
    "print('문자열 첫째', '그리고, 둘째')"
   ]
  },
  {
   "cell_type": "markdown",
   "id": "72899684",
   "metadata": {},
   "source": [
    "`end` 옵션으로 출력될 마지막 글자를 변경할 수 있습니다. (기본값: \\n)\n",
    "- [참고] : \\n은 개행을 의미하는 특수 문자입니다."
   ]
  },
  {
   "cell_type": "code",
   "execution_count": 10,
   "id": "6b95cf8e",
   "metadata": {},
   "outputs": [
    {
     "name": "stdout",
     "output_type": "stream",
     "text": [
      "여기까지!end출력!"
     ]
    }
   ],
   "source": [
    "print('여기까지!', end='end출력!')"
   ]
  },
  {
   "cell_type": "markdown",
   "id": "1ab0b1f2",
   "metadata": {},
   "source": [
    "`sep` 옵션으로 출력될 문자열 사이에 출력될 글자를 변경할 수 있습니다. (기본값: 공백)"
   ]
  },
  {
   "cell_type": "code",
   "execution_count": 11,
   "id": "1fa87a87",
   "metadata": {},
   "outputs": [
    {
     "name": "stdout",
     "output_type": "stream",
     "text": [
      "문자1 <구분> 문자1 <구분> 문자3\n"
     ]
    }
   ],
   "source": [
    "print('문자1', '문자1', '문자3', sep=' <구분> ')"
   ]
  },
  {
   "cell_type": "markdown",
   "id": "6ec28704",
   "metadata": {},
   "source": [
    "### %를 사용한 출력"
   ]
  },
  {
   "cell_type": "code",
   "execution_count": 12,
   "id": "9ae8a658",
   "metadata": {},
   "outputs": [
    {
     "data": {
      "text/plain": [
       "'안녕하세요? 반갑습니다.'"
      ]
     },
     "execution_count": 12,
     "metadata": {},
     "output_type": "execute_result"
    }
   ],
   "source": [
    "\"안녕하세요? %s\" % ('반갑습니다.')"
   ]
  },
  {
   "cell_type": "code",
   "execution_count": 15,
   "id": "ee561632",
   "metadata": {},
   "outputs": [
    {
     "data": {
      "text/plain": [
       "'안녕하세요? 0.123'"
      ]
     },
     "execution_count": 15,
     "metadata": {},
     "output_type": "execute_result"
    }
   ],
   "source": [
    "'안녕하세요? %.3f' % (0.123456)"
   ]
  },
  {
   "cell_type": "code",
   "execution_count": 16,
   "id": "e9f52638",
   "metadata": {},
   "outputs": [
    {
     "data": {
      "text/plain": [
       "'안녕하세요? 12345'"
      ]
     },
     "execution_count": 16,
     "metadata": {},
     "output_type": "execute_result"
    }
   ],
   "source": [
    "'안녕하세요? %d' % (12345)"
   ]
  },
  {
   "cell_type": "code",
   "execution_count": 17,
   "id": "c095e4db",
   "metadata": {},
   "outputs": [
    {
     "data": {
      "text/plain": [
       "'안녕하세요? a'"
      ]
     },
     "execution_count": 17,
     "metadata": {},
     "output_type": "execute_result"
    }
   ],
   "source": [
    "'안녕하세요? %c' % ('a')"
   ]
  },
  {
   "cell_type": "markdown",
   "id": "bf4cd95b",
   "metadata": {},
   "source": [
    "### {} 와 format를 사용한 출력"
   ]
  },
  {
   "cell_type": "code",
   "execution_count": 18,
   "id": "6bdf886c",
   "metadata": {},
   "outputs": [
    {
     "data": {
      "text/plain": [
       "'웰컴투? 파이썬.'"
      ]
     },
     "execution_count": 18,
     "metadata": {},
     "output_type": "execute_result"
    }
   ],
   "source": [
    "'웰컴투? {}'.format('파이썬.')"
   ]
  },
  {
   "cell_type": "code",
   "execution_count": 19,
   "id": "96b7afb7",
   "metadata": {},
   "outputs": [
    {
     "data": {
      "text/plain": [
       "'비밀번호 486'"
      ]
     },
     "execution_count": 19,
     "metadata": {},
     "output_type": "execute_result"
    }
   ],
   "source": [
    "'비밀번호 {}'.format(486)"
   ]
  },
  {
   "cell_type": "markdown",
   "id": "e2bbb118",
   "metadata": {},
   "source": [
    "소수점 2자리 까지 제한하는 경우 (그 이하자리는 반올림)"
   ]
  },
  {
   "cell_type": "code",
   "execution_count": 20,
   "id": "58f09600",
   "metadata": {},
   "outputs": [
    {
     "data": {
      "text/plain": [
       "'원주율? 3.14'"
      ]
     },
     "execution_count": 20,
     "metadata": {},
     "output_type": "execute_result"
    }
   ],
   "source": [
    "'원주율? {:.2f}'.format(3.141592)"
   ]
  },
  {
   "cell_type": "markdown",
   "id": "226280c2",
   "metadata": {},
   "source": [
    "### f 문자열 포맷팅 (python 3.6 이상만 지원)"
   ]
  },
  {
   "cell_type": "code",
   "execution_count": 26,
   "id": "c9fa008e",
   "metadata": {},
   "outputs": [
    {
     "name": "stdout",
     "output_type": "stream",
     "text": [
      "나의 이름은 펭수입니다. 나이는10살입니다.\n"
     ]
    }
   ],
   "source": [
    "name = '펭수'\n",
    "age = 10\n",
    "print(f'나의 이름은 {name}입니다. 나이는{age}살입니다.')"
   ]
  },
  {
   "cell_type": "code",
   "execution_count": 27,
   "id": "d412fd23",
   "metadata": {},
   "outputs": [
    {
     "name": "stdout",
     "output_type": "stream",
     "text": [
      "내년에 저는 11 살입니다.\n"
     ]
    }
   ],
   "source": [
    "print(f'내년에 저는 {age+1} 살입니다.')"
   ]
  },
  {
   "cell_type": "code",
   "execution_count": 28,
   "id": "da62c136",
   "metadata": {},
   "outputs": [],
   "source": [
    "d = {'name':'펭수', 'age':10}"
   ]
  },
  {
   "cell_type": "code",
   "execution_count": 29,
   "id": "2887c48e",
   "metadata": {},
   "outputs": [
    {
     "name": "stdout",
     "output_type": "stream",
     "text": [
      "반가워요. 저는 펭수입니다. 저의 나이는 10 살입니다.\n"
     ]
    }
   ],
   "source": [
    "print(f\"반가워요. 저는 {d['name']}입니다. 저의 나이는 {d['age']} 살입니다.\")"
   ]
  },
  {
   "cell_type": "markdown",
   "id": "3f818c96",
   "metadata": {},
   "source": [
    "###  문자열 길이"
   ]
  },
  {
   "cell_type": "markdown",
   "id": "fd789ce8",
   "metadata": {},
   "source": [
    "###  영문 (alphabet)"
   ]
  },
  {
   "cell_type": "code",
   "execution_count": 30,
   "id": "61f90418",
   "metadata": {},
   "outputs": [
    {
     "data": {
      "text/plain": [
       "6"
      ]
     },
     "execution_count": 30,
     "metadata": {},
     "output_type": "execute_result"
    }
   ],
   "source": [
    "len('banana')"
   ]
  },
  {
   "cell_type": "markdown",
   "id": "0ad4e4a8",
   "metadata": {},
   "source": [
    "**공백**은 길이에 포합됩니다."
   ]
  },
  {
   "cell_type": "code",
   "execution_count": 31,
   "id": "b4f1aa02",
   "metadata": {},
   "outputs": [
    {
     "data": {
      "text/plain": [
       "10"
      ]
     },
     "execution_count": 31,
     "metadata": {},
     "output_type": "execute_result"
    }
   ],
   "source": [
    "len('banana pen')"
   ]
  },
  {
   "cell_type": "markdown",
   "id": "08c7e5f8",
   "metadata": {},
   "source": [
    "### 한글"
   ]
  },
  {
   "cell_type": "code",
   "execution_count": 32,
   "id": "c5eb1a7a",
   "metadata": {},
   "outputs": [
    {
     "data": {
      "text/plain": [
       "2"
      ]
     },
     "execution_count": 32,
     "metadata": {},
     "output_type": "execute_result"
    }
   ],
   "source": [
    "len('한글')"
   ]
  },
  {
   "cell_type": "markdown",
   "id": "e60d3e8e",
   "metadata": {},
   "source": [
    "**공백**은 길이에 포함됩니다."
   ]
  },
  {
   "cell_type": "code",
   "execution_count": 33,
   "id": "bd60a79f",
   "metadata": {},
   "outputs": [
    {
     "data": {
      "text/plain": [
       "6"
      ]
     },
     "execution_count": 33,
     "metadata": {},
     "output_type": "execute_result"
    }
   ],
   "source": [
    "len('한글 킹왕짱')"
   ]
  },
  {
   "cell_type": "markdown",
   "id": "3333b2bb",
   "metadata": {},
   "source": [
    "### 인덱싱 (indexing)\n",
    "\n",
    "- 문자열에서 한 개의 글자(char)를 조회하기 위해서는 **[]를 활용한 인덱싱으로 조회**할 수 있습니다."
   ]
  },
  {
   "cell_type": "code",
   "execution_count": 34,
   "id": "37597182",
   "metadata": {},
   "outputs": [
    {
     "data": {
      "text/plain": [
       "'Python is my life'"
      ]
     },
     "execution_count": 34,
     "metadata": {},
     "output_type": "execute_result"
    }
   ],
   "source": [
    "a = 'Python is my life'\n",
    "a"
   ]
  },
  {
   "cell_type": "markdown",
   "id": "78c9f08a",
   "metadata": {},
   "source": [
    "| P    | y    | t    | h    | o    | n    |      | i    | s    |      | m    | y    |      | l    | i    | f    | e    |\n",
    "| ---- | ---- | ---- | ---- | ---- | ---- | ---- | ---- | ---- | ---- | ---- | ---- | ---- | ---- | ---- | ---- | ---- |\n",
    "| 0    | 1    | 2    | 3    | 4    | 5    | 6    | 7    | 8    | 9    | 10   | 11   | 12   | 13   | 14   | 15   | 16   |\n",
    "| -17  | -16  | -15  | -14  | -13  | -12  | -11  | -10  | -9   | -8   | -7   | -6   | -5   | -4   | -3   | -2   | -1   |"
   ]
  },
  {
   "cell_type": "code",
   "execution_count": 35,
   "id": "78835163",
   "metadata": {},
   "outputs": [
    {
     "data": {
      "text/plain": [
       "'P'"
      ]
     },
     "execution_count": 35,
     "metadata": {},
     "output_type": "execute_result"
    }
   ],
   "source": [
    "a[0]"
   ]
  },
  {
   "cell_type": "code",
   "execution_count": 36,
   "id": "8f5170a8",
   "metadata": {},
   "outputs": [
    {
     "data": {
      "text/plain": [
       "'f'"
      ]
     },
     "execution_count": 36,
     "metadata": {},
     "output_type": "execute_result"
    }
   ],
   "source": [
    "a[-2]"
   ]
  },
  {
   "cell_type": "markdown",
   "id": "9454a9bb",
   "metadata": {},
   "source": [
    "### 슬라이싱 (Slicing)\n",
    "\n",
    "- 슬라이싱의 활용:[start:stop:step]을 명시하여 부분을 추출할 수 있습니다."
   ]
  },
  {
   "cell_type": "code",
   "execution_count": 37,
   "id": "1fb36de6",
   "metadata": {},
   "outputs": [
    {
     "data": {
      "text/plain": [
       "'Python is my life'"
      ]
     },
     "execution_count": 37,
     "metadata": {},
     "output_type": "execute_result"
    }
   ],
   "source": [
    "a = 'Python is my life'\n",
    "a"
   ]
  },
  {
   "cell_type": "markdown",
   "id": "87f8b307",
   "metadata": {},
   "source": [
    "| P    | y    | t    | h    | o    | n    |      | i    | s    |      | m    | y    |      | l    | i    | f    | e    |\n",
    "| ---- | ---- | ---- | ---- | ---- | ---- | ---- | ---- | ---- | ---- | ---- | ---- | ---- | ---- | ---- | ---- | ---- |\n",
    "| 0    | 1    | 2    | 3    | 4    | 5    | 6    | 7    | 8    | 9    | 10   | 11   | 12   | 13   | 14   | 15   | 16   |\n",
    "| -17  | -16  | -15  | -14  | -13  | -12  | -11  | -10  | -9   | -8   | -7   | -6   | -5   | -4   | -3   | -2   | -1   |"
   ]
  },
  {
   "cell_type": "markdown",
   "id": "bd6cb4ca",
   "metadata": {},
   "source": [
    "[:]을 활용하여 전체를 추출할 수 있습니다."
   ]
  },
  {
   "cell_type": "code",
   "execution_count": 38,
   "id": "d94f83ce",
   "metadata": {},
   "outputs": [
    {
     "data": {
      "text/plain": [
       "'Python is my life'"
      ]
     },
     "execution_count": 38,
     "metadata": {},
     "output_type": "execute_result"
    }
   ],
   "source": [
    "a[:]"
   ]
  },
  {
   "cell_type": "markdown",
   "id": "28b64033",
   "metadata": {},
   "source": [
    "| P    | y    | t    | h    | o    | n    |      | i    | s    |      | m    | y    |      | l    | i    | f    | e    |\n",
    "| ---- | ---- | ---- | ---- | ---- | ---- | ---- | ---- | ---- | ---- | ---- | ---- | ---- | ---- | ---- | ---- | ---- |\n",
    "| 0    | 1    | 2    | 3    | 4    | 5    | 6    | 7    | 8    | 9    | 10   | 11   | 12   | 13   | 14   | 15   | 16   |\n",
    "| -17  | -16  | -15  | -14  | -13  | -12  | -11  | -10  | -9   | -8   | -7   | -6   | -5   | -4   | -3   | -2   | -1   |"
   ]
  },
  {
   "cell_type": "markdown",
   "id": "0b544bb6",
   "metadata": {},
   "source": [
    "[start:]는 시작 indext 부터 끝까지 추출합니다."
   ]
  },
  {
   "cell_type": "code",
   "execution_count": 40,
   "id": "788607c6",
   "metadata": {},
   "outputs": [
    {
     "data": {
      "text/plain": [
       "'hon is my life'"
      ]
     },
     "execution_count": 40,
     "metadata": {},
     "output_type": "execute_result"
    }
   ],
   "source": [
    "a[3:]"
   ]
  },
  {
   "cell_type": "code",
   "execution_count": 41,
   "id": "7da53ae2",
   "metadata": {},
   "outputs": [
    {
     "data": {
      "text/plain": [
       "'life'"
      ]
     },
     "execution_count": 41,
     "metadata": {},
     "output_type": "execute_result"
    }
   ],
   "source": [
    "a[-4:]"
   ]
  },
  {
   "cell_type": "markdown",
   "id": "9cf0d82c",
   "metadata": {},
   "source": [
    "[:end]는 처음부터 end 전까지 추출합니다."
   ]
  },
  {
   "cell_type": "code",
   "execution_count": 42,
   "id": "33a37c68",
   "metadata": {},
   "outputs": [
    {
     "data": {
      "text/plain": [
       "'Python'"
      ]
     },
     "execution_count": 42,
     "metadata": {},
     "output_type": "execute_result"
    }
   ],
   "source": [
    "a[:6]"
   ]
  },
  {
   "cell_type": "code",
   "execution_count": 43,
   "id": "3aac7d0b",
   "metadata": {},
   "outputs": [
    {
     "data": {
      "text/plain": [
       "'Python is my l'"
      ]
     },
     "execution_count": 43,
     "metadata": {},
     "output_type": "execute_result"
    }
   ],
   "source": [
    "a[:-3]"
   ]
  },
  {
   "cell_type": "markdown",
   "id": "e9e1ec5e",
   "metadata": {},
   "source": [
    "| P    | y    | t    | h    | o    | n    |      | i    | s    |      | m    | y    |      | l    | i    | f    | e    |\n",
    "| ---- | ---- | ---- | ---- | ---- | ---- | ---- | ---- | ---- | ---- | ---- | ---- | ---- | ---- | ---- | ---- | ---- |\n",
    "| 0    | 1    | 2    | 3    | 4    | 5    | 6    | 7    | 8    | 9    | 10   | 11   | 12   | 13   | 14   | 15   | 16   |\n",
    "| -17  | -16  | -15  | -14  | -13  | -12  | -11  | -10  | -9   | -8   | -7   | -6   | -5   | -4   | -3   | -2   | -1   |"
   ]
  },
  {
   "cell_type": "markdown",
   "id": "fa4e5e6e",
   "metadata": {},
   "source": [
    "[start:end]는 start부터 end 전까지 추출합니다."
   ]
  },
  {
   "cell_type": "code",
   "execution_count": 44,
   "id": "8419cbca",
   "metadata": {},
   "outputs": [
    {
     "data": {
      "text/plain": [
       "'hon'"
      ]
     },
     "execution_count": 44,
     "metadata": {},
     "output_type": "execute_result"
    }
   ],
   "source": [
    "a[3:6]"
   ]
  },
  {
   "cell_type": "markdown",
   "id": "79a6b3b5",
   "metadata": {},
   "source": [
    "[start:stop:step]에서 step 지정시 step만큼 건너 뛰면서 추출합니다."
   ]
  },
  {
   "cell_type": "code",
   "execution_count": 45,
   "id": "2842a930",
   "metadata": {},
   "outputs": [
    {
     "data": {
      "text/plain": [
       "'Pto sm ie'"
      ]
     },
     "execution_count": 45,
     "metadata": {},
     "output_type": "execute_result"
    }
   ],
   "source": [
    "a[::2]"
   ]
  },
  {
   "cell_type": "markdown",
   "id": "4fb03757",
   "metadata": {},
   "source": [
    "역순으로 출력하기 위해서는 step을 -1로 지정합니다."
   ]
  },
  {
   "cell_type": "code",
   "execution_count": 46,
   "id": "3c64e128",
   "metadata": {},
   "outputs": [
    {
     "data": {
      "text/plain": [
       "'efil ym si nohtyP'"
      ]
     },
     "execution_count": 46,
     "metadata": {},
     "output_type": "execute_result"
    }
   ],
   "source": [
    "a[::-1]"
   ]
  },
  {
   "cell_type": "markdown",
   "id": "8af14ea2",
   "metadata": {},
   "source": [
    "### 불변(immutable)\n",
    "\n",
    "- 문자열은 indext를 통해 값을 수정 및 변경이 불가합니다.\n",
    "- 하지만 메서드(method)로 변경할 수 있습니다."
   ]
  },
  {
   "cell_type": "code",
   "execution_count": 47,
   "id": "e4602a8a",
   "metadata": {},
   "outputs": [],
   "source": [
    "a = 'Python is my life'"
   ]
  },
  {
   "cell_type": "markdown",
   "id": "54752aa0",
   "metadata": {},
   "source": [
    "index에 값을 할당하여 변경하려는 경우"
   ]
  },
  {
   "cell_type": "code",
   "execution_count": 48,
   "id": "23dfd99e",
   "metadata": {},
   "outputs": [
    {
     "ename": "TypeError",
     "evalue": "'str' object does not support item assignment",
     "output_type": "error",
     "traceback": [
      "\u001b[1;31m---------------------------------------------------------------------------\u001b[0m",
      "\u001b[1;31mTypeError\u001b[0m                                 Traceback (most recent call last)",
      "\u001b[1;32m<ipython-input-48-f2db0e8f1888>\u001b[0m in \u001b[0;36m<module>\u001b[1;34m\u001b[0m\n\u001b[1;32m----> 1\u001b[1;33m \u001b[0ma\u001b[0m\u001b[1;33m[\u001b[0m\u001b[1;36m2\u001b[0m\u001b[1;33m]\u001b[0m \u001b[1;33m=\u001b[0m \u001b[1;34m'Y'\u001b[0m\u001b[1;33m\u001b[0m\u001b[1;33m\u001b[0m\u001b[0m\n\u001b[0m",
      "\u001b[1;31mTypeError\u001b[0m: 'str' object does not support item assignment"
     ]
    }
   ],
   "source": [
    "a[2] = 'Y'"
   ]
  },
  {
   "cell_type": "markdown",
   "id": "6efaa22b",
   "metadata": {},
   "source": [
    "del로 부분 삭제하려는 경우"
   ]
  },
  {
   "cell_type": "code",
   "execution_count": 49,
   "id": "938a0622",
   "metadata": {},
   "outputs": [
    {
     "ename": "TypeError",
     "evalue": "'str' object doesn't support item deletion",
     "output_type": "error",
     "traceback": [
      "\u001b[1;31m---------------------------------------------------------------------------\u001b[0m",
      "\u001b[1;31mTypeError\u001b[0m                                 Traceback (most recent call last)",
      "\u001b[1;32m<ipython-input-49-734682c6a06c>\u001b[0m in \u001b[0;36m<module>\u001b[1;34m\u001b[0m\n\u001b[1;32m----> 1\u001b[1;33m \u001b[1;32mdel\u001b[0m \u001b[0ma\u001b[0m\u001b[1;33m[\u001b[0m\u001b[1;36m2\u001b[0m\u001b[1;33m]\u001b[0m\u001b[1;33m\u001b[0m\u001b[1;33m\u001b[0m\u001b[0m\n\u001b[0m",
      "\u001b[1;31mTypeError\u001b[0m: 'str' object doesn't support item deletion"
     ]
    }
   ],
   "source": [
    "del a[2]"
   ]
  },
  {
   "cell_type": "markdown",
   "id": "bcd2941e",
   "metadata": {},
   "source": [
    "## 문자열의 덧셈과 곱셈"
   ]
  },
  {
   "cell_type": "markdown",
   "id": "f7dbad88",
   "metadata": {},
   "source": [
    "### 연결: 문자열의 덧셈\n",
    "\n",
    "덧셈은 문자열을 연결합니다."
   ]
  },
  {
   "cell_type": "code",
   "execution_count": 50,
   "id": "14e0132a",
   "metadata": {},
   "outputs": [],
   "source": [
    "a = '반갑습니다!'\n",
    "b = '웰컴 투 파이썬'"
   ]
  },
  {
   "cell_type": "code",
   "execution_count": 51,
   "id": "2cfb5e1b",
   "metadata": {},
   "outputs": [
    {
     "data": {
      "text/plain": [
       "'반갑습니다!웰컴 투 파이썬'"
      ]
     },
     "execution_count": 51,
     "metadata": {},
     "output_type": "execute_result"
    }
   ],
   "source": [
    "a + b"
   ]
  },
  {
   "cell_type": "code",
   "execution_count": 52,
   "id": "eebc8124",
   "metadata": {},
   "outputs": [
    {
     "data": {
      "text/plain": [
       "'반갑습니다!???'"
      ]
     },
     "execution_count": 52,
     "metadata": {},
     "output_type": "execute_result"
    }
   ],
   "source": [
    "a + '???'"
   ]
  },
  {
   "cell_type": "code",
   "execution_count": 53,
   "id": "f979971d",
   "metadata": {},
   "outputs": [
    {
     "data": {
      "text/plain": [
       "'hello, world'"
      ]
     },
     "execution_count": 53,
     "metadata": {},
     "output_type": "execute_result"
    }
   ],
   "source": [
    "'hello' + ', world'"
   ]
  },
  {
   "cell_type": "markdown",
   "id": "1825685a",
   "metadata": {},
   "source": [
    "### 복제: 문자열의 곱셈\n",
    "\n",
    "문자열을 곱한 숫자 만큼 반복하여 생성합니다."
   ]
  },
  {
   "cell_type": "code",
   "execution_count": 54,
   "id": "92f9dc8e",
   "metadata": {},
   "outputs": [
    {
     "data": {
      "text/plain": [
       "'반갑습니다!반갑습니다!'"
      ]
     },
     "execution_count": 54,
     "metadata": {},
     "output_type": "execute_result"
    }
   ],
   "source": [
    "a * 2"
   ]
  },
  {
   "cell_type": "code",
   "execution_count": 56,
   "id": "5cd6886d",
   "metadata": {},
   "outputs": [
    {
     "name": "stdout",
     "output_type": "stream",
     "text": [
      "abcabcabcabcabc\n",
      "=====================\n"
     ]
    }
   ],
   "source": [
    "print('abc' * 5)\n",
    "print('===' * 7)"
   ]
  },
  {
   "cell_type": "markdown",
   "id": "b9d1ebb0",
   "metadata": {},
   "source": [
    "## 문자열의 list, set"
   ]
  },
  {
   "cell_type": "markdown",
   "id": "0af7d069",
   "metadata": {},
   "source": [
    "### 리스트(list)\n",
    "\n",
    "- 문자열을 리스트(list)로 타입 변환이 가능합니다.\n",
    "- 타입 변환시 한 글자를 요소로 갖는 리스트가 생성됩니다."
   ]
  },
  {
   "cell_type": "code",
   "execution_count": 57,
   "id": "a5d9836e",
   "metadata": {},
   "outputs": [
    {
     "data": {
      "text/plain": [
       "['A', 'B', 'C', 'D', 'E']"
      ]
     },
     "execution_count": 57,
     "metadata": {},
     "output_type": "execute_result"
    }
   ],
   "source": [
    "list('ABCDE')"
   ]
  },
  {
   "cell_type": "markdown",
   "id": "b39942bf",
   "metadata": {},
   "source": [
    "### 세트(set)\n",
    "\n",
    "- 한 글자를 요솔 갖는 세트가 생성됩니다.\n",
    "- 세트의 특성상 요소를 생성한 후 중복된 글자는 제거됩니다."
   ]
  },
  {
   "cell_type": "code",
   "execution_count": 58,
   "id": "c57fd6b2",
   "metadata": {},
   "outputs": [
    {
     "data": {
      "text/plain": [
       "{'A', 'B', 'C'}"
      ]
     },
     "execution_count": 58,
     "metadata": {},
     "output_type": "execute_result"
    }
   ],
   "source": [
    "set('AAABBBCCC')"
   ]
  },
  {
   "cell_type": "markdown",
   "id": "9680ddb7",
   "metadata": {},
   "source": [
    "중복이 제거된 리스트로 생성하기 위해서는 list로 다시 타입 변환합니다."
   ]
  },
  {
   "cell_type": "code",
   "execution_count": 59,
   "id": "36987242",
   "metadata": {},
   "outputs": [
    {
     "data": {
      "text/plain": [
       "['C', 'B', 'A']"
      ]
     },
     "execution_count": 59,
     "metadata": {},
     "output_type": "execute_result"
    }
   ],
   "source": [
    "list(set('AAABBBCCC'))"
   ]
  },
  {
   "cell_type": "markdown",
   "id": "20550cb6",
   "metadata": {},
   "source": [
    "## 문자열(텍스트)을 다루는 다양한 기능, 메서드(method)\n",
    "\n",
    "- 문자열만 가지고 잇는 **고유의 편한 기능**들이 있습니다.\n",
    "- 우리는 이들 중 몇 가지를 배워 앞으로 유용하게 활용할 예정입니다."
   ]
  },
  {
   "cell_type": "markdown",
   "id": "422130e9",
   "metadata": {},
   "source": [
    "### split() : 분리\n",
    "\n",
    "- split은 문장을 특정 규칙에 의해 쪼개 주는 기능을 합니다.\n",
    "- 분리한 결과는 list형식으로 값을 return 받습니다."
   ]
  },
  {
   "cell_type": "code",
   "execution_count": 61,
   "id": "9091ab26",
   "metadata": {},
   "outputs": [],
   "source": [
    "a = 'This is a pen'"
   ]
  },
  {
   "cell_type": "markdown",
   "id": "ede0bc42",
   "metadata": {},
   "source": [
    "기본 값으로 **공백**이 지정되어 있습니다. 즉, 공백을 기준으로 분리하여 리스트로 반환합니다."
   ]
  },
  {
   "cell_type": "code",
   "execution_count": 62,
   "id": "c49ef7bd",
   "metadata": {},
   "outputs": [
    {
     "data": {
      "text/plain": [
       "['This', 'is', 'a', 'pen']"
      ]
     },
     "execution_count": 62,
     "metadata": {},
     "output_type": "execute_result"
    }
   ],
   "source": [
    "a.split()"
   ]
  },
  {
   "cell_type": "markdown",
   "id": "514e0594",
   "metadata": {},
   "source": [
    "기본 값인 **공백**에서 **특정 문자**로 지정할 수 있습니다."
   ]
  },
  {
   "cell_type": "code",
   "execution_count": 63,
   "id": "126f5cec",
   "metadata": {},
   "outputs": [],
   "source": [
    "a = 'This-is-a-pen'"
   ]
  },
  {
   "cell_type": "code",
   "execution_count": 64,
   "id": "01dc2ae4",
   "metadata": {},
   "outputs": [
    {
     "data": {
      "text/plain": [
       "['This', 'is', 'a', 'pen']"
      ]
     },
     "execution_count": 64,
     "metadata": {},
     "output_type": "execute_result"
    }
   ],
   "source": [
    "a.split('-')"
   ]
  },
  {
   "cell_type": "code",
   "execution_count": 65,
   "id": "5fcc52e5",
   "metadata": {},
   "outputs": [
    {
     "data": {
      "text/plain": [
       "['This', 'is', 'a', 'pen']"
      ]
     },
     "execution_count": 65,
     "metadata": {},
     "output_type": "execute_result"
    }
   ],
   "source": [
    "aa = a.split('-')\n",
    "aa"
   ]
  },
  {
   "cell_type": "markdown",
   "id": "5197a1fd",
   "metadata": {},
   "source": [
    "`aa`에 반환된 리스트를 대입 후 indext로 값을 조회할 수 있습니다."
   ]
  },
  {
   "cell_type": "code",
   "execution_count": 66,
   "id": "ac5c8632",
   "metadata": {},
   "outputs": [
    {
     "data": {
      "text/plain": [
       "'This'"
      ]
     },
     "execution_count": 66,
     "metadata": {},
     "output_type": "execute_result"
    }
   ],
   "source": [
    "aa[0]"
   ]
  },
  {
   "cell_type": "code",
   "execution_count": 67,
   "id": "c781d036",
   "metadata": {},
   "outputs": [
    {
     "data": {
      "text/plain": [
       "'a'"
      ]
     },
     "execution_count": 67,
     "metadata": {},
     "output_type": "execute_result"
    }
   ],
   "source": [
    "aa[2]"
   ]
  },
  {
   "cell_type": "code",
   "execution_count": 68,
   "id": "a704f300",
   "metadata": {},
   "outputs": [
    {
     "data": {
      "text/plain": [
       "'Thisa'"
      ]
     },
     "execution_count": 68,
     "metadata": {},
     "output_type": "execute_result"
    }
   ],
   "source": [
    "aa[0] + aa[2]"
   ]
  },
  {
   "cell_type": "markdown",
   "id": "57f4c1b4",
   "metadata": {},
   "source": [
    "**한글**도 동일하게 적용됩니다."
   ]
  },
  {
   "cell_type": "code",
   "execution_count": 69,
   "id": "7d853db3",
   "metadata": {},
   "outputs": [],
   "source": [
    "a = '한글은 어떻게 될까요?'"
   ]
  },
  {
   "cell_type": "code",
   "execution_count": 70,
   "id": "3299a74e",
   "metadata": {},
   "outputs": [
    {
     "data": {
      "text/plain": [
       "['한글은', '어떻게', '될까요?']"
      ]
     },
     "execution_count": 70,
     "metadata": {},
     "output_type": "execute_result"
    }
   ],
   "source": [
    "a.split()"
   ]
  },
  {
   "cell_type": "markdown",
   "id": "8a36b867",
   "metadata": {},
   "source": [
    "### join() : 합치기\n",
    "\n",
    "- 결합하고자 하는 문자에 .join() 안에 리스트를 지정하여 결합할 수 있습니다."
   ]
  },
  {
   "cell_type": "code",
   "execution_count": 71,
   "id": "4995dd46",
   "metadata": {},
   "outputs": [
    {
     "data": {
      "text/plain": [
       "'010-1234-5678'"
      ]
     },
     "execution_count": 71,
     "metadata": {},
     "output_type": "execute_result"
    }
   ],
   "source": [
    "'-'.join(['010', '1234', '5678'])"
   ]
  },
  {
   "cell_type": "code",
   "execution_count": 72,
   "id": "060cd428",
   "metadata": {},
   "outputs": [
    {
     "data": {
      "text/plain": [
       "'A-B-C-D-E'"
      ]
     },
     "execution_count": 72,
     "metadata": {},
     "output_type": "execute_result"
    }
   ],
   "source": [
    "'-'.join('ABCDE')"
   ]
  },
  {
   "cell_type": "markdown",
   "id": "eb20f47b",
   "metadata": {},
   "source": [
    "### lower(), upper(): 소문자 / 대문자로 만들기"
   ]
  },
  {
   "cell_type": "code",
   "execution_count": 73,
   "id": "9689109a",
   "metadata": {},
   "outputs": [],
   "source": [
    "a = 'My name is Teddy'"
   ]
  },
  {
   "cell_type": "markdown",
   "id": "550c2a71",
   "metadata": {},
   "source": [
    "소문자로 변경"
   ]
  },
  {
   "cell_type": "code",
   "execution_count": 74,
   "id": "13d3dca9",
   "metadata": {},
   "outputs": [
    {
     "data": {
      "text/plain": [
       "'my name is teddy'"
      ]
     },
     "execution_count": 74,
     "metadata": {},
     "output_type": "execute_result"
    }
   ],
   "source": [
    "a.lower()"
   ]
  },
  {
   "cell_type": "markdown",
   "id": "6ed0216e",
   "metadata": {},
   "source": [
    "대문자로 변경"
   ]
  },
  {
   "cell_type": "code",
   "execution_count": 75,
   "id": "4cfcd311",
   "metadata": {},
   "outputs": [
    {
     "data": {
      "text/plain": [
       "'MY NAME IS TEDDY'"
      ]
     },
     "execution_count": 75,
     "metadata": {},
     "output_type": "execute_result"
    }
   ],
   "source": [
    "a.upper()"
   ]
  },
  {
   "cell_type": "markdown",
   "id": "464f0aa2",
   "metadata": {},
   "source": [
    "한글에는 대소문자 구분이 없습니다."
   ]
  },
  {
   "cell_type": "code",
   "execution_count": 76,
   "id": "56892ec3",
   "metadata": {},
   "outputs": [],
   "source": [
    "a = '한글엔 대소문자가 없어요ㅠ'"
   ]
  },
  {
   "cell_type": "code",
   "execution_count": 77,
   "id": "6babe44a",
   "metadata": {},
   "outputs": [
    {
     "data": {
      "text/plain": [
       "'한글엔 대소문자가 없어요ㅠ'"
      ]
     },
     "execution_count": 77,
     "metadata": {},
     "output_type": "execute_result"
    }
   ],
   "source": [
    "a.lower()"
   ]
  },
  {
   "cell_type": "code",
   "execution_count": 78,
   "id": "9fbbb023",
   "metadata": {},
   "outputs": [
    {
     "data": {
      "text/plain": [
       "'한글엔 대소문자가 없어요ㅠ'"
      ]
     },
     "execution_count": 78,
     "metadata": {},
     "output_type": "execute_result"
    }
   ],
   "source": [
    "a.upper()"
   ]
  },
  {
   "cell_type": "markdown",
   "id": "28004b7a",
   "metadata": {},
   "source": [
    "### startswith, endswith\n",
    "\n",
    "시작과, 끝이 맞는지 결과를 bool로 반환합니다."
   ]
  },
  {
   "cell_type": "code",
   "execution_count": 79,
   "id": "d7f79afa",
   "metadata": {},
   "outputs": [],
   "source": [
    "a = '01-sample.png'"
   ]
  },
  {
   "cell_type": "markdown",
   "id": "b4e2105f",
   "metadata": {},
   "source": [
    "### startswith() : 시작하는\n",
    "- 지정한 문자열로 시작하면 True, 그렇지 않다면 False를 반환합니다."
   ]
  },
  {
   "cell_type": "code",
   "execution_count": 80,
   "id": "b93bfe7c",
   "metadata": {},
   "outputs": [
    {
     "data": {
      "text/plain": [
       "True"
      ]
     },
     "execution_count": 80,
     "metadata": {},
     "output_type": "execute_result"
    }
   ],
   "source": [
    "a.startswith('01')"
   ]
  },
  {
   "cell_type": "code",
   "execution_count": 81,
   "id": "a9952b53",
   "metadata": {},
   "outputs": [
    {
     "data": {
      "text/plain": [
       "False"
      ]
     },
     "execution_count": 81,
     "metadata": {},
     "output_type": "execute_result"
    }
   ],
   "source": [
    "a.startswith('02')"
   ]
  },
  {
   "cell_type": "markdown",
   "id": "505f66a9",
   "metadata": {},
   "source": [
    "### endswith() : 끝나는\n",
    "- 지정한 문자열로 끝나면 True, 그렇지 않다면 False를 반환합니다."
   ]
  },
  {
   "cell_type": "code",
   "execution_count": 82,
   "id": "ab79c7f4",
   "metadata": {},
   "outputs": [
    {
     "data": {
      "text/plain": [
       "True"
      ]
     },
     "execution_count": 82,
     "metadata": {},
     "output_type": "execute_result"
    }
   ],
   "source": [
    "a.endswith('.png')"
   ]
  },
  {
   "cell_type": "code",
   "execution_count": 83,
   "id": "44e7fcaf",
   "metadata": {},
   "outputs": [
    {
     "data": {
      "text/plain": [
       "False"
      ]
     },
     "execution_count": 83,
     "metadata": {},
     "output_type": "execute_result"
    }
   ],
   "source": [
    "a.endswith('.jpg')"
   ]
  },
  {
   "cell_type": "markdown",
   "id": "59502fa1",
   "metadata": {},
   "source": [
    "## replace() : 문자열 바꾸기\n",
    "\n",
    "- 문자열에 **replace(바꿀 대상, 바꾸려는 문자열)**지정하여 문자열을 변경합니다.\n",
    "- 결과는 복사본이 만들어져 반환됩니다."
   ]
  },
  {
   "cell_type": "code",
   "execution_count": 84,
   "id": "0b343feb",
   "metadata": {},
   "outputs": [],
   "source": [
    "a = '01-sample.png'"
   ]
  },
  {
   "cell_type": "code",
   "execution_count": 85,
   "id": "1c00d4ab",
   "metadata": {},
   "outputs": [
    {
     "data": {
      "text/plain": [
       "'01-sample.jpg'"
      ]
     },
     "execution_count": 85,
     "metadata": {},
     "output_type": "execute_result"
    }
   ],
   "source": [
    "a.replace('.png', '.jpg')"
   ]
  },
  {
   "cell_type": "markdown",
   "id": "ef8e8da6",
   "metadata": {},
   "source": [
    "반환값은 복사본이며 원본에 **변경사항이 바로 적용되지 않습니다.**"
   ]
  },
  {
   "cell_type": "code",
   "execution_count": 86,
   "id": "67faafb1",
   "metadata": {},
   "outputs": [
    {
     "data": {
      "text/plain": [
       "'01-sample.png'"
      ]
     },
     "execution_count": 86,
     "metadata": {},
     "output_type": "execute_result"
    }
   ],
   "source": [
    "a"
   ]
  },
  {
   "cell_type": "code",
   "execution_count": 87,
   "id": "bc377521",
   "metadata": {},
   "outputs": [],
   "source": [
    "new_a = a.replace('.png', '.jpg')"
   ]
  },
  {
   "cell_type": "code",
   "execution_count": 88,
   "id": "0d23fccb",
   "metadata": {},
   "outputs": [
    {
     "name": "stdout",
     "output_type": "stream",
     "text": [
      "01-sample.jpg\n"
     ]
    }
   ],
   "source": [
    "print(new_a)"
   ]
  },
  {
   "cell_type": "markdown",
   "id": "20f1c6cc",
   "metadata": {},
   "source": [
    "## 불필요한 공백 제거"
   ]
  },
  {
   "cell_type": "code",
   "execution_count": 89,
   "id": "2ec189af",
   "metadata": {},
   "outputs": [],
   "source": [
    "a = '       01-sample.png         '"
   ]
  },
  {
   "cell_type": "code",
   "execution_count": 90,
   "id": "bf8a6dcd",
   "metadata": {},
   "outputs": [
    {
     "name": "stdout",
     "output_type": "stream",
     "text": [
      "       01-sample.png         \n"
     ]
    }
   ],
   "source": [
    "print(a)"
   ]
  },
  {
   "cell_type": "markdown",
   "id": "ba4c52a4",
   "metadata": {},
   "source": [
    "**strip은 불필요한 공백을 제거**해 줍니다."
   ]
  },
  {
   "cell_type": "markdown",
   "id": "0e304e0f",
   "metadata": {},
   "source": [
    "###  lstrip() : 왼쪽 공백 제거"
   ]
  },
  {
   "cell_type": "code",
   "execution_count": 91,
   "id": "30b5bd58",
   "metadata": {},
   "outputs": [
    {
     "data": {
      "text/plain": [
       "'01-sample.png         '"
      ]
     },
     "execution_count": 91,
     "metadata": {},
     "output_type": "execute_result"
    }
   ],
   "source": [
    "a.lstrip()"
   ]
  },
  {
   "cell_type": "markdown",
   "id": "64bc8b65",
   "metadata": {},
   "source": [
    "### rstrip() : 오른쪽 공백 제거"
   ]
  },
  {
   "cell_type": "code",
   "execution_count": 92,
   "id": "cca0ee46",
   "metadata": {},
   "outputs": [
    {
     "data": {
      "text/plain": [
       "'01-sample.png'"
      ]
     },
     "execution_count": 92,
     "metadata": {},
     "output_type": "execute_result"
    }
   ],
   "source": [
    "a.strip()"
   ]
  }
 ],
 "metadata": {
  "kernelspec": {
   "display_name": "Python 3",
   "language": "python",
   "name": "python3"
  },
  "language_info": {
   "codemirror_mode": {
    "name": "ipython",
    "version": 3
   },
   "file_extension": ".py",
   "mimetype": "text/x-python",
   "name": "python",
   "nbconvert_exporter": "python",
   "pygments_lexer": "ipython3",
   "version": "3.8.8"
  }
 },
 "nbformat": 4,
 "nbformat_minor": 5
}
